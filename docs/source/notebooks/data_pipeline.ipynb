{
 "cells": [
  {
   "cell_type": "markdown",
   "id": "0",
   "metadata": {},
   "source": [
    "# Notebook to explore netCDF files and change resolution, plus Python plotting\n",
    "These files are downloaded from [Copernicus Climate Data Store](https://cds.climate.copernicus.eu/datasets/reanalysis-era5-land-monthly-means?tab=download), using `cdsapi`. Get the data running the Python script `inout.py`:\n",
    "```\n",
    "python onehealth_db/inout.py\n",
    "```\n",
    "\n",
    "The downloaded files are stored in `data/in`. The `area` option uses values `90`, `90`, `-90`, `-90` for `North`, `East`, `South`, `West`, respectively.\n",
    "\n",
    "Question: What is the coordinate reference system for the era5 dataset? NUTS3 either on EPSG 3035, 4326, 3857.\n",
    "\n",
    "-> According to [ERA5-Land's documentation](https://confluence.ecmwf.int/display/CKB/ERA5-Land%3A+data+documentation):\n",
    "> The data is referenced in the horizontal with respect to the WGS84 ellipse (which defines the major/minor axes) and in the vertical it is referenced to the EGM96 geoid over land but over ocean it is referenced to mean sea level, with the approximation that this is assumed to be coincident with the geoid. \n",
    "\n",
    "Then according to [this page](https://spatialreference.org/ref/epsg/9707/), it seems like the coordinate reference system for ERA5-Land is EPSG:9707\n",
    "\n",
    "> ERA5-Land produces a total of 50 variables describing the\n",
    "water and energy cycles over land, globally, hourly, and at a\n",
    "spatial resolution of 9 km, matching the ECMWF triangular–\n",
    "cubic–octahedral (TCo1279) operational grid (Malardel\n",
    "et al., 2016)."
   ]
  },
  {
   "cell_type": "code",
   "execution_count": null,
   "id": "1",
   "metadata": {},
   "outputs": [],
   "source": [
    "from pathlib import Path\n",
    "import xarray as xr\n",
    "from matplotlib import pyplot as plt\n",
    "import geopandas as gpd\n",
    "from shapely.geometry import Point\n",
    "from shapely import wkt\n",
    "import numpy as np\n",
    "import pandas as pd"
   ]
  },
  {
   "cell_type": "markdown",
   "id": "2",
   "metadata": {},
   "source": [
    "The following cells aim to explore the data structure"
   ]
  },
  {
   "cell_type": "code",
   "execution_count": null,
   "id": "3",
   "metadata": {},
   "outputs": [],
   "source": [
    "data_folder = Path(\"../../../data\")"
   ]
  },
  {
   "cell_type": "markdown",
   "id": "4",
   "metadata": {},
   "source": [
    "### ERA5-Land from CDS"
   ]
  },
  {
   "cell_type": "code",
   "execution_count": null,
   "id": "5",
   "metadata": {},
   "outputs": [],
   "source": [
    "f_area_before_celsius = (\n",
    "    data_folder / \"in\" / \"era5_data_2016_2017_all_2t_tp_monthly_raw.nc\"\n",
    ")\n",
    "f_area_after_celsius = (\n",
    "    data_folder / \"in\" / \"era5_data_2016_2017_all_2t_tp_monthly_celsius.nc\"\n",
    ")"
   ]
  },
  {
   "cell_type": "markdown",
   "id": "6",
   "metadata": {},
   "source": [
    "#### Dask Array"
   ]
  },
  {
   "cell_type": "code",
   "execution_count": null,
   "id": "7",
   "metadata": {},
   "outputs": [],
   "source": [
    "dask_ds = xr.open_dataset(f_area_after_celsius, chunks={})\n",
    "dask_ds = dask_ds.chunk({\"valid_time\": 1, \"latitude\": 900, \"longitude\": 1800})\n",
    "dask_ds"
   ]
  },
  {
   "cell_type": "code",
   "execution_count": null,
   "id": "8",
   "metadata": {},
   "outputs": [],
   "source": [
    "t2m_data = (\n",
    "    dask_ds[\"t2m\"].dropna(dim=\"latitude\", how=\"all\").load()\n",
    ")  # load data into memory\n",
    "t2m_data"
   ]
  },
  {
   "cell_type": "code",
   "execution_count": null,
   "id": "9",
   "metadata": {},
   "outputs": [],
   "source": [
    "stacked = t2m_data.stack(points=(\"valid_time\", \"latitude\", \"longitude\"))\n",
    "stacked"
   ]
  },
  {
   "cell_type": "code",
   "execution_count": null,
   "id": "10",
   "metadata": {},
   "outputs": [],
   "source": [
    "stacked = stacked.dropna(\"points\")\n",
    "stacked"
   ]
  },
  {
   "cell_type": "code",
   "execution_count": null,
   "id": "11",
   "metadata": {},
   "outputs": [],
   "source": [
    "stacked[\"valid_time\"].values.astype(\"datetime64[ns]\")"
   ]
  },
  {
   "cell_type": "code",
   "execution_count": null,
   "id": "12",
   "metadata": {},
   "outputs": [],
   "source": [
    "stacked[\"latitude\"].values"
   ]
  },
  {
   "cell_type": "code",
   "execution_count": null,
   "id": "13",
   "metadata": {},
   "outputs": [],
   "source": [
    "stacked[\"longitude\"].values"
   ]
  },
  {
   "cell_type": "code",
   "execution_count": null,
   "id": "14",
   "metadata": {},
   "outputs": [],
   "source": [
    "stacked.values"
   ]
  },
  {
   "cell_type": "markdown",
   "id": "15",
   "metadata": {},
   "source": [
    "#### Xarray"
   ]
  },
  {
   "cell_type": "code",
   "execution_count": null,
   "id": "16",
   "metadata": {},
   "outputs": [],
   "source": [
    "# load netCDF files\n",
    "ds_area_before_celsius = xr.open_dataset(f_area_before_celsius)\n",
    "ds_area_after_celsius = xr.open_dataset(f_area_after_celsius)"
   ]
  },
  {
   "cell_type": "code",
   "execution_count": null,
   "id": "17",
   "metadata": {},
   "outputs": [],
   "source": [
    "ds_area_before_celsius"
   ]
  },
  {
   "cell_type": "code",
   "execution_count": null,
   "id": "18",
   "metadata": {},
   "outputs": [],
   "source": [
    "ds_area_before_celsius.sel(\n",
    "    latitude=20.0, longitude=10.0, method=\"nearest\"\n",
    ").to_dataframe().head(5)"
   ]
  },
  {
   "cell_type": "code",
   "execution_count": null,
   "id": "19",
   "metadata": {},
   "outputs": [],
   "source": [
    "ds_area_before_celsius[\"tp\"].attrs"
   ]
  },
  {
   "cell_type": "code",
   "execution_count": null,
   "id": "20",
   "metadata": {},
   "outputs": [],
   "source": [
    "ds_area_after_celsius"
   ]
  },
  {
   "cell_type": "code",
   "execution_count": null,
   "id": "21",
   "metadata": {},
   "outputs": [],
   "source": [
    "ds_area_after_celsius.latitude.values[5]"
   ]
  },
  {
   "cell_type": "code",
   "execution_count": null,
   "id": "22",
   "metadata": {},
   "outputs": [],
   "source": [
    "ds_area_after_celsius[\"tp\"].attrs"
   ]
  },
  {
   "cell_type": "code",
   "execution_count": null,
   "id": "23",
   "metadata": {},
   "outputs": [],
   "source": [
    "ds_area_after_celsius.sel(\n",
    "    latitude=20.0, longitude=10.0, method=\"nearest\"\n",
    ").to_dataframe().head(5)"
   ]
  },
  {
   "cell_type": "code",
   "execution_count": null,
   "id": "24",
   "metadata": {},
   "outputs": [],
   "source": [
    "ds_area_after_celsius.latitude.values[5]"
   ]
  },
  {
   "cell_type": "code",
   "execution_count": null,
   "id": "25",
   "metadata": {},
   "outputs": [],
   "source": [
    "lat = 20.0\n",
    "lon = 10.0\n",
    "ds_area_after_celsius[\"t2m\"].sel(latitude=lat, longitude=lon, method=\"nearest\").plot(\n",
    "    color=\"blue\", marker=\"o\"\n",
    ")\n",
    "plt.title(\"2m temperature in 2024 at lat-{}, lon-{}\".format(lat, lon))\n",
    "plt.show()"
   ]
  },
  {
   "cell_type": "code",
   "execution_count": null,
   "id": "26",
   "metadata": {},
   "outputs": [],
   "source": [
    "# plot the data for the first month\n",
    "ds_area_after_celsius.t2m[0].plot(size=7)"
   ]
  },
  {
   "cell_type": "code",
   "execution_count": null,
   "id": "27",
   "metadata": {},
   "outputs": [],
   "source": [
    "ds_area_after_celsius.tp[0].plot(size=7)"
   ]
  },
  {
   "cell_type": "code",
   "execution_count": null,
   "id": "28",
   "metadata": {},
   "outputs": [],
   "source": [
    "# convert to dataframe\n",
    "df = ds_area_after_celsius.to_dataframe().reset_index()\n",
    "df"
   ]
  },
  {
   "cell_type": "markdown",
   "id": "29",
   "metadata": {},
   "source": [
    "### Population data from ISIMIP"
   ]
  },
  {
   "cell_type": "code",
   "execution_count": null,
   "id": "30",
   "metadata": {},
   "outputs": [],
   "source": [
    "f_popu_data = (\n",
    "    data_folder / \"in\" / \"population_histsoc_30arcmin_annual_1901_2021_renamed.nc\"\n",
    ")\n",
    "ds_popu_data = xr.open_dataset(f_popu_data, chunks={})"
   ]
  },
  {
   "cell_type": "code",
   "execution_count": null,
   "id": "31",
   "metadata": {},
   "outputs": [],
   "source": [
    "ds_popu_data"
   ]
  },
  {
   "cell_type": "code",
   "execution_count": null,
   "id": "32",
   "metadata": {},
   "outputs": [],
   "source": [
    "# only keep data from 2016 and 2017\n",
    "end_time = np.datetime64(\"2017-12-01\", \"ns\")\n",
    "limit_time = np.datetime64(\"2016-01-01\", \"ns\")\n",
    "ds_popu_data = ds_popu_data.sel(time=slice(limit_time, end_time))\n",
    "ds_popu_data.time.values"
   ]
  },
  {
   "cell_type": "code",
   "execution_count": null,
   "id": "33",
   "metadata": {},
   "outputs": [],
   "source": [
    "if ds_popu_data.time.values[0] > ds_popu_data.time.values[-1]:\n",
    "    # sort the time dimension in ascending order\n",
    "    ds_popu_data = ds_popu_data.sortby(\"time\")\n",
    "start_of_year = pd.Timestamp(\n",
    "    year=pd.to_datetime(ds_popu_data.time.values[0]).year,\n",
    "    month=1,\n",
    "    day=1,\n",
    "    hour=12,\n",
    "    minute=0,  # 0 hours for era5 data\n",
    ")\n",
    "end_of_year = pd.Timestamp(\n",
    "    year=pd.to_datetime(ds_popu_data.time.values[-1]).year,\n",
    "    month=12,\n",
    "    day=1,\n",
    "    hour=12,\n",
    "    minute=0,\n",
    ")\n",
    "monthly_time = pd.date_range(start=start_of_year, end=end_of_year, freq=\"MS\")\n",
    "monthly_time"
   ]
  },
  {
   "cell_type": "code",
   "execution_count": null,
   "id": "34",
   "metadata": {},
   "outputs": [],
   "source": [
    "# reindex the time dimension to match the monthly time\n",
    "ds_popu_data = ds_popu_data.reindex(time=monthly_time, method=\"ffill\")\n",
    "ds_popu_data"
   ]
  },
  {
   "cell_type": "code",
   "execution_count": null,
   "id": "35",
   "metadata": {},
   "outputs": [],
   "source": [
    "ds_popu_data[\"total-population\"].sel(\n",
    "    lat=8.67, lon=49.39, method=\"nearest\"\n",
    ").to_dataframe().head(14)"
   ]
  },
  {
   "cell_type": "code",
   "execution_count": null,
   "id": "36",
   "metadata": {},
   "outputs": [],
   "source": [
    "ds_popu_data[\"total-population\"].attrs"
   ]
  },
  {
   "cell_type": "code",
   "execution_count": null,
   "id": "37",
   "metadata": {},
   "outputs": [],
   "source": [
    "# resolution of population data\n",
    "res = ds_popu_data.lat[1] - ds_popu_data.lat[0]\n",
    "res"
   ]
  },
  {
   "cell_type": "code",
   "execution_count": null,
   "id": "38",
   "metadata": {},
   "outputs": [],
   "source": [
    "test_popu_data = ds_popu_data.sel(lat=8.67, lon=49.39, method=\"nearest\").to_dataframe()\n",
    "test_popu_data.head(5)"
   ]
  },
  {
   "cell_type": "code",
   "execution_count": null,
   "id": "39",
   "metadata": {},
   "outputs": [],
   "source": [
    "test_popu_data[\"total-population\"].plot()"
   ]
  },
  {
   "cell_type": "code",
   "execution_count": null,
   "id": "40",
   "metadata": {},
   "outputs": [],
   "source": [
    "ds_popu_data[\"total-population\"][-1].plot(figsize=(9, 5))"
   ]
  },
  {
   "cell_type": "code",
   "execution_count": null,
   "id": "41",
   "metadata": {},
   "outputs": [],
   "source": [
    "# change dimension name to make it consistent with the era5-land data\n",
    "ds_popu_data = ds_popu_data.rename({\"lat\": \"latitude\", \"lon\": \"longitude\"})"
   ]
  },
  {
   "cell_type": "code",
   "execution_count": null,
   "id": "42",
   "metadata": {},
   "outputs": [],
   "source": [
    "# save the population data to a netCDF file\n",
    "ds_popu_data.to_netcdf(\n",
    "    data_folder / \"in\" / \"population_histsoc_30arcmin_annual_2016_2017_renamed.nc\",\n",
    "    mode=\"w\",\n",
    ")"
   ]
  },
  {
   "cell_type": "code",
   "execution_count": null,
   "id": "43",
   "metadata": {},
   "outputs": [],
   "source": [
    "# save the population data to a csv file\n",
    "popu_data = (\n",
    "    ds_popu_data[[\"time\", \"latitude\", \"longitude\", \"total-population\"]]\n",
    "    .to_dataframe()\n",
    "    .reset_index()\n",
    ")\n",
    "popu_data"
   ]
  },
  {
   "cell_type": "code",
   "execution_count": null,
   "id": "44",
   "metadata": {},
   "outputs": [],
   "source": [
    "popu_data_clean = popu_data.dropna()\n",
    "popu_data_clean"
   ]
  },
  {
   "cell_type": "code",
   "execution_count": null,
   "id": "45",
   "metadata": {},
   "outputs": [],
   "source": [
    "# save population data to a csv file\n",
    "popu_data.to_csv(\n",
    "    data_folder\n",
    "    / \"out\"\n",
    "    / \"population_histsoc_30arcmin_annual_2016_2017_renamed_filtered_with_NAN.csv\",\n",
    "    index=False,\n",
    ")\n",
    "popu_data_clean.to_csv(\n",
    "    data_folder\n",
    "    / \"out\"\n",
    "    / \"population_histsoc_30arcmin_annual_2016_2017_renamed_filtered.csv\",\n",
    "    index=False,\n",
    ")"
   ]
  },
  {
   "cell_type": "markdown",
   "id": "46",
   "metadata": {},
   "source": [
    "#### Files from provided materials"
   ]
  },
  {
   "cell_type": "code",
   "execution_count": null,
   "id": "47",
   "metadata": {},
   "outputs": [],
   "source": [
    "f_popu_dens_2024 = data_folder / \"in\" / \"pop_dens_2024_global_0.5.nc\"\n",
    "ds_popu_dens_2024 = xr.open_dataset(\n",
    "    f_popu_dens_2024, decode_times=False\n",
    ")  # add decode_times=False to avoid error\n",
    "f_dens_example = data_folder / \"in\" / \"dens_example.nc\"\n",
    "ds_dens_example = xr.open_dataset(f_dens_example)"
   ]
  },
  {
   "cell_type": "code",
   "execution_count": null,
   "id": "48",
   "metadata": {},
   "outputs": [],
   "source": [
    "ds_popu_dens_2024"
   ]
  },
  {
   "cell_type": "code",
   "execution_count": null,
   "id": "49",
   "metadata": {},
   "outputs": [],
   "source": [
    "ds_popu_dens_2024[\"dens\"].attrs"
   ]
  },
  {
   "cell_type": "code",
   "execution_count": null,
   "id": "50",
   "metadata": {},
   "outputs": [],
   "source": [
    "ds_popu_dens_2024.sel(lat=8.67, lon=49.39, method=\"nearest\").to_dataframe().head(5)"
   ]
  },
  {
   "cell_type": "code",
   "execution_count": null,
   "id": "51",
   "metadata": {},
   "outputs": [],
   "source": [
    "ds_dens_example"
   ]
  },
  {
   "cell_type": "code",
   "execution_count": null,
   "id": "52",
   "metadata": {},
   "outputs": [],
   "source": [
    "ds_dens_example.to_dataframe().head(5)"
   ]
  },
  {
   "cell_type": "markdown",
   "id": "53",
   "metadata": {},
   "source": [
    "## Downsampling of the data and setting the correct accuracy for the dataframe"
   ]
  },
  {
   "cell_type": "code",
   "execution_count": null,
   "id": "54",
   "metadata": {},
   "outputs": [],
   "source": [
    "# aggregate the data to a 1/2 degree grid, about 50km x 50 km\n",
    "# already here the numerical accuracy of the grid values is problematic, so we need to round\n",
    "output_grid_resolution = 1 / 2\n",
    "input_grid_resolution = np.round(\n",
    "    (ds_area_after_celsius.longitude[1] - ds_area_after_celsius.longitude[0]).item(), 2\n",
    ")\n",
    "print(\n",
    "    \"Initial grid resolution is {}, downsampling to {} degree resolution\".format(\n",
    "        input_grid_resolution, output_grid_resolution\n",
    "    )\n",
    ")\n",
    "weight = int(np.ceil(output_grid_resolution / input_grid_resolution))\n",
    "print(\"Weight is {}\".format(weight))"
   ]
  },
  {
   "cell_type": "code",
   "execution_count": null,
   "id": "55",
   "metadata": {},
   "outputs": [],
   "source": [
    "ds_area_after_celsius"
   ]
  },
  {
   "cell_type": "code",
   "execution_count": null,
   "id": "56",
   "metadata": {},
   "outputs": [],
   "source": [
    "ds_area_after_celsius = ds_area_after_celsius.rename({\"valid_time\": \"time\"})"
   ]
  },
  {
   "cell_type": "code",
   "execution_count": null,
   "id": "57",
   "metadata": {},
   "outputs": [],
   "source": [
    "ds_area_after_celsius_resampled = (\n",
    "    ds_area_after_celsius.coarsen(longitude=weight, boundary=\"pad\")\n",
    "    .mean()\n",
    "    .coarsen(latitude=weight, boundary=\"pad\")\n",
    "    .mean()\n",
    ")\n",
    "ds_area_after_celsius_resampled"
   ]
  },
  {
   "cell_type": "code",
   "execution_count": null,
   "id": "58",
   "metadata": {},
   "outputs": [],
   "source": [
    "# another version of using coarsen\n",
    "ds_area_after_celsius_resampled_trim = ds_area_after_celsius.coarsen(\n",
    "    longitude=weight, latitude=weight, boundary=\"trim\"\n",
    ").mean()\n",
    "ds_area_after_celsius_resampled_trim"
   ]
  },
  {
   "cell_type": "code",
   "execution_count": null,
   "id": "59",
   "metadata": {},
   "outputs": [],
   "source": [
    "downsampled_grid = float(\n",
    "    ds_area_after_celsius_resampled.longitude[1]\n",
    "    - ds_area_after_celsius_resampled.longitude[0]\n",
    ")\n",
    "print(\"Downsampled grid resolution is {}\".format(downsampled_grid))"
   ]
  },
  {
   "cell_type": "code",
   "execution_count": null,
   "id": "60",
   "metadata": {},
   "outputs": [],
   "source": [
    "downsampled_grid_trim = float(\n",
    "    ds_area_after_celsius_resampled_trim.longitude[1]\n",
    "    - ds_area_after_celsius_resampled_trim.longitude[0]\n",
    ")\n",
    "print(\"Downsampled grid resolution is {}\".format(downsampled_grid_trim))"
   ]
  },
  {
   "cell_type": "code",
   "execution_count": null,
   "id": "61",
   "metadata": {},
   "outputs": [],
   "source": [
    "# adjust lat and lon values to be consistent with the population data\n",
    "ds_area_after_celsius_resampled_trim = (\n",
    "    ds_area_after_celsius_resampled_trim.assign_coords(\n",
    "        {\n",
    "            \"latitude\": (ds_area_after_celsius_resampled_trim.latitude - 0.05).round(2),\n",
    "            \"longitude\": (ds_area_after_celsius_resampled_trim.longitude - 0.05).round(\n",
    "                2\n",
    "            ),\n",
    "        }\n",
    "    )\n",
    ")\n",
    "ds_area_after_celsius_resampled_trim"
   ]
  },
  {
   "cell_type": "code",
   "execution_count": null,
   "id": "62",
   "metadata": {},
   "outputs": [],
   "source": [
    "# compare the adjusted lat lon values with the ones from the population data\n",
    "era5_lat = ds_area_after_celsius_resampled_trim.latitude.values\n",
    "era5_lon = ds_area_after_celsius_resampled_trim.longitude.values\n",
    "popu_lat = ds_popu_data.latitude.values\n",
    "popu_lon = ds_popu_data.longitude.values\n",
    "test_lat = np.array_equal(era5_lat, popu_lat)\n",
    "test_lon = np.array_equal(era5_lon, popu_lon)\n",
    "test_lat, test_lon"
   ]
  },
  {
   "cell_type": "code",
   "execution_count": null,
   "id": "63",
   "metadata": {},
   "outputs": [],
   "source": [
    "# plot the data for the first month\n",
    "ds_area_after_celsius_resampled.t2m[0].plot(size=5)"
   ]
  },
  {
   "cell_type": "code",
   "execution_count": null,
   "id": "64",
   "metadata": {},
   "outputs": [],
   "source": [
    "ds_area_after_celsius_resampled_trim.t2m[0].plot(size=5)"
   ]
  },
  {
   "cell_type": "code",
   "execution_count": null,
   "id": "65",
   "metadata": {},
   "outputs": [],
   "source": [
    "# change m to mm for tp\n",
    "ds_area_after_celsius_resampled_trim[\"tp\"] = (\n",
    "    ds_area_after_celsius_resampled_trim[\"tp\"] * 1000\n",
    ")\n",
    "ds_area_after_celsius_resampled_trim[\"tp\"].attrs[\"units\"] = \"mm\"\n",
    "ds_area_after_celsius_resampled_trim[\"tp\"].attrs[\"GRB_units\"] = \"mm\""
   ]
  },
  {
   "cell_type": "code",
   "execution_count": null,
   "id": "66",
   "metadata": {},
   "outputs": [],
   "source": [
    "ds_area_after_celsius_resampled_trim.tp[0].plot(size=5)"
   ]
  },
  {
   "cell_type": "code",
   "execution_count": null,
   "id": "67",
   "metadata": {},
   "outputs": [],
   "source": [
    "# ds_area_after_celsius_resampled.to_netcdf(data_folder / \"out\" / \"era5_data_2024_01_02_03_2t_tp_monthly_celsius_mm_resampled_05degree_pad.nc\")\n",
    "ds_area_after_celsius_resampled_trim.to_netcdf(\n",
    "    data_folder\n",
    "    / \"out\"\n",
    "    / \"era5_data_2016_2017_all_2t_tp_monthly_celsius_mm_resampled_05degree_trim.nc\"\n",
    ")"
   ]
  },
  {
   "cell_type": "markdown",
   "id": "68",
   "metadata": {},
   "source": [
    "#### Export to CSV files"
   ]
  },
  {
   "cell_type": "code",
   "execution_count": null,
   "id": "69",
   "metadata": {},
   "outputs": [],
   "source": [
    "# convert to dataframe\n",
    "df = ds_area_after_celsius_resampled_trim.to_dataframe().reset_index()\n",
    "df"
   ]
  },
  {
   "cell_type": "code",
   "execution_count": null,
   "id": "70",
   "metadata": {},
   "outputs": [],
   "source": [
    "out_data = df[[\"time\", \"latitude\", \"longitude\", \"t2m\", \"tp\"]]"
   ]
  },
  {
   "cell_type": "code",
   "execution_count": null,
   "id": "71",
   "metadata": {},
   "outputs": [],
   "source": [
    "# drop all nan values and filter by time\n",
    "out_data_clean = out_data.dropna()\n",
    "out_data_clean"
   ]
  },
  {
   "cell_type": "code",
   "execution_count": null,
   "id": "72",
   "metadata": {},
   "outputs": [],
   "source": [
    "out_data.to_csv(\n",
    "    data_folder\n",
    "    / \"out\"\n",
    "    / \"era5_data_2016_2017_all_2t_tp_monthly_celsius_mm_with_NaN_resampled_05degree_trim.csv\",\n",
    "    index=False,\n",
    ")\n",
    "out_data_clean.to_csv(\n",
    "    data_folder\n",
    "    / \"out\"\n",
    "    / \"era5_data_2016_2017_all_2t_tp_monthly_celsius_mm_resampled_05degree_trim.csv\",\n",
    "    index=False,\n",
    ")"
   ]
  },
  {
   "cell_type": "markdown",
   "id": "73",
   "metadata": {},
   "source": [
    "## Export to geopandas for other plotting options and geospatial analysis"
   ]
  },
  {
   "cell_type": "markdown",
   "id": "74",
   "metadata": {},
   "source": [
    "### Export to geopandas for ERA5-Land data"
   ]
  },
  {
   "cell_type": "code",
   "execution_count": null,
   "id": "75",
   "metadata": {},
   "outputs": [],
   "source": [
    "# xarray data to geopandas\n",
    "# Create geometry column using latitude and longitude\n",
    "geometry = [Point(xy) for xy in zip(out_data[\"longitude\"], out_data[\"latitude\"])]\n",
    "\n",
    "for epsg in [4326]:\n",
    "    # Create GeoDataFrame\n",
    "    gdf = gpd.GeoDataFrame(out_data, geometry=geometry)\n",
    "\n",
    "    # Set the coordinate reference system (CRS) if known (e.g., WGS84)\n",
    "    gdf.set_crs(epsg=epsg, inplace=True)\n",
    "\n",
    "    # Save to a GeoJSON file\n",
    "    gdf.to_file(\n",
    "        data_folder\n",
    "        / \"out\"\n",
    "        / f\"era5_data_2016_2017_all_tp_monthly_celsius_with_NaN_February_resampled_05degree_{epsg}.geojson\",\n",
    "        driver=\"GeoJSON\",\n",
    "    )"
   ]
  },
  {
   "cell_type": "code",
   "execution_count": null,
   "id": "76",
   "metadata": {},
   "outputs": [],
   "source": [
    "# compare two files to see if the epsg makes a difference\n",
    "# gdf_9707 = gpd.read_file(data_folder / \"out\" / \"era5_data_2024_01_02_2t_tp_monthly_celsius_with_NaN_February_resampled_05degree_9707.geojson\")\n",
    "gdf_4326 = gpd.read_file(\n",
    "    data_folder\n",
    "    / \"out\"\n",
    "    / \"era5_data_2016_2017_all_tp_monthly_celsius_with_NaN_February_resampled_05degree_4326.geojson\"\n",
    ")\n",
    "# diff = gdf_9707.compare(gdf_4326)\n",
    "# if diff.empty:\n",
    "#    print(\"The two files are identical.\")\n",
    "# else:\n",
    "#    print(\"The two files are different.\")\n",
    "#    print(diff)"
   ]
  },
  {
   "cell_type": "code",
   "execution_count": null,
   "id": "77",
   "metadata": {},
   "outputs": [],
   "source": [
    "fig, ax = plt.subplots(figsize=(8, 5))\n",
    "gdf_4326.plot(ax=ax, column=\"t2m\", legend=True, markersize=0.5)\n",
    "fig.tight_layout()\n",
    "fig.savefig(\"february_t2m_wNaN.pdf\")"
   ]
  },
  {
   "cell_type": "code",
   "execution_count": null,
   "id": "78",
   "metadata": {},
   "outputs": [],
   "source": [
    "fig, ax = plt.subplots(figsize=(8, 5))\n",
    "gdf_4326.plot(ax=ax, column=\"tp\", legend=True, markersize=0.5)\n",
    "fig.tight_layout()\n",
    "fig.savefig(\"february_tp_wNaN.pdf\")"
   ]
  },
  {
   "cell_type": "markdown",
   "id": "79",
   "metadata": {},
   "source": [
    "### Export to geopandas for population data"
   ]
  },
  {
   "cell_type": "code",
   "execution_count": null,
   "id": "80",
   "metadata": {},
   "outputs": [],
   "source": [
    "# xarray data to geopandas\n",
    "# Create geometry column using latitude and longitude\n",
    "geometry = [Point(xy) for xy in zip(popu_data[\"longitude\"], popu_data[\"latitude\"])]\n",
    "\n",
    "for epsg in [4326]:\n",
    "    # Create GeoDataFrame\n",
    "    gdf = gpd.GeoDataFrame(popu_data, geometry=geometry)\n",
    "\n",
    "    # Set the coordinate reference system (CRS) if known (e.g., WGS84)\n",
    "    gdf.set_crs(epsg=epsg, inplace=True)\n",
    "\n",
    "    # Save to a GeoJSON file\n",
    "    gdf.to_file(\n",
    "        data_folder\n",
    "        / \"out\"\n",
    "        / f\"isimip_population_with_NaN_2016_2017_05degree_{epsg}.geojson\",\n",
    "        driver=\"GeoJSON\",\n",
    "    )"
   ]
  },
  {
   "cell_type": "code",
   "execution_count": null,
   "id": "81",
   "metadata": {},
   "outputs": [],
   "source": [
    "# compare two files to see if the epsg makes a difference\n",
    "# popu_gdf_9707 = gpd.read_file(data_folder / \"out\" / \"isimip_population_with_NaN_2021_05degree_9707.geojson\")\n",
    "popu_gdf_4326 = gpd.read_file(\n",
    "    data_folder / \"out\" / \"isimip_population_with_NaN_2016_2017_05degree_4326.geojson\"\n",
    ")\n",
    "# diff = popu_gdf_9707.compare(popu_gdf_4326)\n",
    "# if diff.empty:\n",
    "#     print(\"The two files are identical.\")\n",
    "# else:\n",
    "#     print(\"The two files are different.\")\n",
    "#     print(diff)"
   ]
  },
  {
   "cell_type": "code",
   "execution_count": null,
   "id": "82",
   "metadata": {},
   "outputs": [],
   "source": [
    "fig, ax = plt.subplots(figsize=(8, 5))\n",
    "popu_gdf_4326.plot(ax=ax, column=\"popu\", legend=True, markersize=0.5)\n",
    "fig.tight_layout()\n",
    "fig.savefig(\"isimip_population_2021_wNaN.pdf\")"
   ]
  },
  {
   "cell_type": "markdown",
   "id": "83",
   "metadata": {},
   "source": [
    "### Check geo points between ERA5-Land and ISIMIP data"
   ]
  },
  {
   "cell_type": "code",
   "execution_count": null,
   "id": "84",
   "metadata": {},
   "outputs": [],
   "source": [
    "# geometry of non-clean data\n",
    "era5_geometry = [Point(xy) for xy in zip(out_data[\"longitude\"], out_data[\"latitude\"])]\n",
    "popu_geometry = [Point(xy) for xy in zip(popu_data[\"longitude\"], popu_data[\"latitude\"])]"
   ]
  },
  {
   "cell_type": "code",
   "execution_count": null,
   "id": "85",
   "metadata": {},
   "outputs": [],
   "source": [
    "# check if the data from era5-land and the data from ISIMIP use the same grid\n",
    "from shapely.ops import unary_union\n",
    "\n",
    "geom_era5 = unary_union(gdf_4326.geometry)\n",
    "geom_popu = unary_union(popu_gdf_4326.geometry)\n",
    "intersec_geom = geom_era5.intersection(geom_popu)\n",
    "gdf_intersec = gpd.GeoDataFrame(geometry=[intersec_geom], crs=gdf_4326.crs)\n",
    "gdf_intersec"
   ]
  },
  {
   "cell_type": "code",
   "execution_count": null,
   "id": "86",
   "metadata": {},
   "outputs": [],
   "source": [
    "popu_gdf_4326 = popu_gdf_4326.to_crs(gdf_4326.crs)\n",
    "gdf_intersec = gpd.overlay(gdf_4326, popu_gdf_4326, how=\"intersection\")\n",
    "gdf_intersec"
   ]
  },
  {
   "cell_type": "markdown",
   "id": "87",
   "metadata": {},
   "source": [
    "## Resample to NUTS3 level\n",
    "Use the same `crs` for geopandas export and the shapefile export from Eurostat."
   ]
  },
  {
   "cell_type": "code",
   "execution_count": null,
   "id": "88",
   "metadata": {},
   "outputs": [],
   "source": [
    "# read the shapefile\n",
    "shapefile_path = Path(data_folder / \"in\" / \"NUTS_RG_20M_2024_4326.shp\")\n",
    "nuts3 = gpd.GeoDataFrame.from_file(shapefile_path)\n",
    "nuts3"
   ]
  },
  {
   "cell_type": "code",
   "execution_count": null,
   "id": "89",
   "metadata": {},
   "outputs": [],
   "source": [
    "gdf_4326"
   ]
  },
  {
   "cell_type": "code",
   "execution_count": null,
   "id": "90",
   "metadata": {},
   "outputs": [],
   "source": [
    "popu_gdf_4326"
   ]
  },
  {
   "cell_type": "markdown",
   "id": "91",
   "metadata": {},
   "source": [
    "### Merge t2m and tp data with NUTS3"
   ]
  },
  {
   "cell_type": "code",
   "execution_count": null,
   "id": "92",
   "metadata": {},
   "outputs": [],
   "source": [
    "# Spatial join for points in polygons\n",
    "era5_merge = gpd.tools.sjoin(gdf_4326, nuts3, how=\"left\")\n",
    "\n",
    "# drop non-merged obs\n",
    "era5_matched = era5_merge[~era5_merge[\"NUTS_NAME\"].isna()]\n",
    "# show result\n",
    "era5_matched.head()"
   ]
  },
  {
   "cell_type": "code",
   "execution_count": null,
   "id": "93",
   "metadata": {},
   "outputs": [],
   "source": [
    "ear5_aggregated_by_NUTS3 = (\n",
    "    era5_matched.groupby(\"NUTS_ID\")[[\"t2m\", \"tp\"]].mean().reset_index()\n",
    ")\n",
    "ear5_aggregated_by_NUTS3"
   ]
  },
  {
   "cell_type": "code",
   "execution_count": null,
   "id": "94",
   "metadata": {},
   "outputs": [],
   "source": [
    "era5_nuts = nuts3.merge(ear5_aggregated_by_NUTS3, on=\"NUTS_ID\")\n",
    "era5_nuts = era5_nuts.filter([\"NUTS_ID\", \"geometry\", \"t2m\", \"tp\"])\n",
    "era5_nuts"
   ]
  },
  {
   "cell_type": "code",
   "execution_count": null,
   "id": "95",
   "metadata": {},
   "outputs": [],
   "source": [
    "# plot the NUTS3 regions with the t2m\n",
    "fig, ax = plt.subplots(figsize=(8, 5))\n",
    "era5_nuts.plot(ax=ax, column=\"t2m\", legend=True, markersize=0.5, cmap=\"coolwarm\")\n",
    "plt.tight_layout()\n",
    "fig.savefig(\"era5_t2m_nuts3_export.pdf\")"
   ]
  },
  {
   "cell_type": "code",
   "execution_count": null,
   "id": "96",
   "metadata": {},
   "outputs": [],
   "source": [
    "# plot the NUTS3 regions with the t2m\n",
    "fig, ax = plt.subplots(figsize=(8, 5))\n",
    "era5_nuts.plot(ax=ax, column=\"tp\", legend=True, markersize=0.5, cmap=\"RdBu\")\n",
    "plt.tight_layout()\n",
    "fig.savefig(\"era5_tp_nuts3_export.pdf\")"
   ]
  },
  {
   "cell_type": "code",
   "execution_count": null,
   "id": "97",
   "metadata": {},
   "outputs": [],
   "source": [
    "# export the NUTS3 regions with the t2m as csv\n",
    "era5_nuts.to_csv(\n",
    "    data_folder\n",
    "    / \"out\"\n",
    "    / \"era5_data_2016_2017_all_monthly_area_celsius_resampled_05degree_NUTS3.csv\",\n",
    "    index=False,\n",
    ")"
   ]
  },
  {
   "cell_type": "markdown",
   "id": "98",
   "metadata": {},
   "source": [
    "### Merge population data with NUTS3"
   ]
  },
  {
   "cell_type": "code",
   "execution_count": null,
   "id": "99",
   "metadata": {},
   "outputs": [],
   "source": [
    "# Spatial join for points in polygons\n",
    "popu_merge = gpd.tools.sjoin(popu_gdf_4326, nuts3, how=\"left\")\n",
    "\n",
    "# drop non-merged obs\n",
    "popu_matched = popu_merge[~popu_merge[\"NUTS_NAME\"].isna()]\n",
    "# show result\n",
    "popu_matched.head()"
   ]
  },
  {
   "cell_type": "code",
   "execution_count": null,
   "id": "100",
   "metadata": {},
   "outputs": [],
   "source": [
    "popu_aggregated_by_NUTS3 = (\n",
    "    popu_matched.groupby(\"NUTS_ID\")[\"total-population\"].mean().reset_index()\n",
    ")\n",
    "popu_aggregated_by_NUTS3"
   ]
  },
  {
   "cell_type": "code",
   "execution_count": null,
   "id": "101",
   "metadata": {},
   "outputs": [],
   "source": [
    "popu_nuts = nuts3.merge(popu_aggregated_by_NUTS3, on=\"NUTS_ID\")\n",
    "popu_nuts = popu_nuts.filter([\"NUTS_ID\", \"geometry\", \"total-population\"])\n",
    "popu_nuts"
   ]
  },
  {
   "cell_type": "code",
   "execution_count": null,
   "id": "102",
   "metadata": {},
   "outputs": [],
   "source": [
    "# plot the NUTS3 regions with the t2m\n",
    "fig, ax = plt.subplots(figsize=(9, 5))\n",
    "popu_nuts.plot(ax=ax, column=\"total-population\", legend=True, markersize=0.5)\n",
    "plt.tight_layout()\n",
    "fig.savefig(\"popu_nuts3_export.pdf\")"
   ]
  },
  {
   "cell_type": "code",
   "execution_count": null,
   "id": "103",
   "metadata": {},
   "outputs": [],
   "source": [
    "# export the NUTS3 regions with the t2m as csv\n",
    "popu_nuts.to_csv(\n",
    "    data_folder\n",
    "    / \"out\"\n",
    "    / \"isimip_population_2016_2017_05degree_4326_05degree_NUTS3.csv\",\n",
    "    index=False,\n",
    ")"
   ]
  },
  {
   "cell_type": "markdown",
   "id": "104",
   "metadata": {},
   "source": [
    "## Check all the data visually"
   ]
  },
  {
   "cell_type": "code",
   "execution_count": null,
   "id": "105",
   "metadata": {},
   "outputs": [],
   "source": [
    "cartesian_grid_file = (\n",
    "    data_folder\n",
    "    / \"out\"\n",
    "    / \"era5_data_2016_2017_all_2t_tp_monthly_celsius_mm_resampled_05degree_trim.nc\"\n",
    ")\n",
    "NUTS3_grid_file = (\n",
    "    data_folder\n",
    "    / \"out\"\n",
    "    / \"era5_data_2016_2017_all_monthly_area_celsius_resampled_05degree_NUTS3.csv\"\n",
    ")\n",
    "pop_cartesian_grid_file = (\n",
    "    data_folder / \"in\" / \"population_histsoc_30arcmin_annual_2016_2017_renamed.nc\"\n",
    ")\n",
    "pop_NUTS3_grid_file = (\n",
    "    data_folder / \"out\" / \"isimip_population_2016_2017_05degree_4326_05degree_NUTS3.csv\"\n",
    ")"
   ]
  },
  {
   "cell_type": "code",
   "execution_count": null,
   "id": "106",
   "metadata": {},
   "outputs": [],
   "source": [
    "# read the netcdf data into xarray\n",
    "cartesian_grid = xr.open_dataset(cartesian_grid_file)\n",
    "pop_cartesian_grid = xr.open_dataset(pop_cartesian_grid_file)\n",
    "\n",
    "# read the csv data into pandas and convert to geodataframe\n",
    "NUTS3_grid = pd.read_csv(NUTS3_grid_file)\n",
    "pop_NUTS3_grid = pd.read_csv(pop_NUTS3_grid_file)\n",
    "# convert the NUTS3 shape string into a shapely geometry\n",
    "NUTS3_grid[\"geometry\"] = NUTS3_grid[\"geometry\"].apply(wkt.loads)\n",
    "pop_NUTS3_grid[\"geometry\"] = pop_NUTS3_grid[\"geometry\"].apply(wkt.loads)\n",
    "# convert pandas DataFrame to GeoDataFrame\n",
    "NUTS3_grid_gdf = gpd.GeoDataFrame(NUTS3_grid, geometry=\"geometry\")\n",
    "pop_NUTS3_grid_gdf = gpd.GeoDataFrame(pop_NUTS3_grid, geometry=\"geometry\")\n",
    "NUTS3_grid_gdf.set_crs(epsg=4326, inplace=True)\n",
    "pop_NUTS3_grid_gdf.set_crs(epsg=4326, inplace=True)"
   ]
  },
  {
   "cell_type": "code",
   "execution_count": null,
   "id": "107",
   "metadata": {},
   "outputs": [],
   "source": [
    "# plot the cartesian grid data of t2m and tp for 2016-2017, all months\n",
    "cartesian_grid.t2m.plot(col=\"time\", col_wrap=4, cmap=\"coolwarm\", figsize=(15, 10))\n",
    "plt.savefig(\"era5_2016_2017_plots_t2m.png\", dpi=300)\n",
    "plt.show()"
   ]
  },
  {
   "cell_type": "code",
   "execution_count": null,
   "id": "108",
   "metadata": {},
   "outputs": [],
   "source": [
    "cartesian_grid.tp.plot(\n",
    "    col=\"time\", col_wrap=4, cmap=\"coolwarm\", vmin=0, vmax=20, figsize=(15, 10)\n",
    ")\n",
    "plt.savefig(\"era5_2016_2017_plots_tp.png\", dpi=300)\n",
    "plt.show()"
   ]
  },
  {
   "cell_type": "code",
   "execution_count": null,
   "id": "109",
   "metadata": {},
   "outputs": [],
   "source": [
    "# plot the cartesian population data\n",
    "pop_cartesian_grid[\"total-population\"].plot(\n",
    "    col=\"time\", col_wrap=2, cmap=\"coolwarm\", vmin=0, vmax=0.8e6, figsize=(10, 3)\n",
    ")\n",
    "plt.savefig(\"population_2016_2017_plots.png\", dpi=300)\n",
    "plt.show()"
   ]
  },
  {
   "cell_type": "code",
   "execution_count": null,
   "id": "110",
   "metadata": {},
   "outputs": [],
   "source": []
  },
  {
   "cell_type": "code",
   "execution_count": null,
   "id": "111",
   "metadata": {},
   "outputs": [],
   "source": [
    "# plot the NUTS3 grid data of t2m and tp for 2016-2017, all months\n",
    "NUTS3_grid_gdf.plot(column=\"time\", col_wrap=4, cmap=\"coolwarm\", figsize=(15, 10))\n",
    "plt.savefig(\"era5_2016_2017_plots_t2m_NUTS3.png\", dpi=300)\n",
    "plt.show()"
   ]
  },
  {
   "cell_type": "code",
   "execution_count": null,
   "id": "112",
   "metadata": {},
   "outputs": [],
   "source": [
    "import geopandas as gpd\n",
    "from shapely.geometry import Polygon\n",
    "\n",
    "# Example: list of polygons (each as a list of (lon, lat) tuples)\n",
    "polygons = [\n",
    "    Polygon([(0, 0), (1, 0), (1, 1), (0, 1)]),\n",
    "    Polygon([(2, 2), (3, 2), (3, 3), (2, 3)]),\n",
    "]\n",
    "\n",
    "# Create a DataFrame with attributes\n",
    "data = {\"name\": [\"A\", \"B\"]}\n",
    "gdf = gpd.GeoDataFrame(data, geometry=polygons)\n",
    "gdf.set_crs(epsg=4326, inplace=True)  # Set CRS if known\n",
    "\n",
    "print(gdf)"
   ]
  },
  {
   "cell_type": "code",
   "execution_count": null,
   "id": "113",
   "metadata": {},
   "outputs": [],
   "source": [
    "import geopandas as gpd\n",
    "from shapely.geometry import Polygon\n",
    "\n",
    "# Read CSV as DataFrame\n",
    "df = pd.read_csv(NUTS3_grid_file)\n",
    "# Create geometry column from longitude and latitude\n",
    "geometry = [i for i in df[\"geometry\"]]\n",
    "print(geometry[:5])  # Print first 5 geometries to check\n",
    "# Convert to GeoDataFrame\n",
    "gdf = gpd.GeoDataFrame(df, geometry=geometry)\n",
    "gdf.set_crs(epsg=4326, inplace=True)"
   ]
  },
  {
   "cell_type": "code",
   "execution_count": null,
   "id": "114",
   "metadata": {},
   "outputs": [],
   "source": [
    "# plots of the NUTS3 data t2m\n",
    "import geoplot as gplt\n",
    "\n",
    "NUTS3_grid_gpd = gpd.read_file(NUTS3_grid_file)\n",
    "# plot the NUTS3 regions with the t2m\n",
    "ax = gplt.kdeplot(NUTS3_grid_gpd)\n",
    "# plot the polygons with the t2m"
   ]
  },
  {
   "cell_type": "code",
   "execution_count": null,
   "id": "115",
   "metadata": {},
   "outputs": [],
   "source": [
    "era5_merge = gpd.tools.sjoin(NUTS3_grid, nuts3, how=\"left\")\n",
    "\n",
    "# drop non-merged obs\n",
    "era5_matched = era5_merge[~era5_merge[\"NUTS_NAME\"].isna()]\n",
    "# show result\n",
    "era5_matched.head()\n",
    "\n",
    "ear5_aggregated_by_NUTS3 = (\n",
    "    era5_matched.groupby(\"NUTS_ID\")[[\"t2m\", \"tp\"]].mean().reset_index()\n",
    ")\n",
    "ear5_aggregated_by_NUTS3\n",
    "\n",
    "era5_nuts = nuts3.merge(ear5_aggregated_by_NUTS3, on=\"NUTS_ID\")\n",
    "era5_nuts = era5_nuts.filter([\"NUTS_ID\", \"geometry\", \"t2m\", \"tp\"])\n",
    "era5_nuts\n",
    "\n",
    "fig, ax = plt.subplots(figsize=(8, 5))\n",
    "era5_nuts.plot(ax=ax, column=\"t2m\", legend=True, markersize=0.5, cmap=\"coolwarm\")\n",
    "plt.tight_layout()\n",
    "fig.savefig(\"nuts3_t2m.png\", dpi=300)"
   ]
  },
  {
   "cell_type": "code",
   "execution_count": null,
   "id": "116",
   "metadata": {},
   "outputs": [],
   "source": []
  }
 ],
 "metadata": {
  "kernelspec": {
   "display_name": "onehealth",
   "language": "python",
   "name": "python3"
  },
  "language_info": {
   "codemirror_mode": {
    "name": "ipython",
    "version": 3
   },
   "file_extension": ".py",
   "mimetype": "text/x-python",
   "name": "python",
   "nbconvert_exporter": "python",
   "pygments_lexer": "ipython3",
   "version": "3.13.0"
  }
 },
 "nbformat": 4,
 "nbformat_minor": 5
}
