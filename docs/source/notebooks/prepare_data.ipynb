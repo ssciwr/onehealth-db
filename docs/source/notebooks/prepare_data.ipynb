{
 "cells": [
  {
   "cell_type": "markdown",
   "id": "0",
   "metadata": {},
   "source": [
    "# Preparing data files\n",
    "\n",
    "Preparing data files according to the [data flowchart](../../../datalake_database/#data-flowchart)"
   ]
  },
  {
   "cell_type": "code",
   "execution_count": null,
   "id": "1",
   "metadata": {},
   "outputs": [],
   "source": [
    "from onehealth_db import inout\n",
    "from onehealth_db import preprocess, utils\n",
    "from pathlib import Path\n",
    "import time"
   ]
  },
  {
   "cell_type": "code",
   "execution_count": null,
   "id": "2",
   "metadata": {},
   "outputs": [],
   "source": [
    "# change to your own data folder, if needed\n",
    "data_folder = Path(\"../../../data/in/\")"
   ]
  },
  {
   "cell_type": "markdown",
   "id": "3",
   "metadata": {},
   "source": [
    "## Download ERA5-Land data"
   ]
  },
  {
   "cell_type": "markdown",
   "id": "4",
   "metadata": {},
   "source": [
    "To download ERA5-Land data using CDS's API:\n",
    "* Select the target dataset, e.g. ERA5-Land monthly averaged data from 1950 to present\n",
    "* Go to tab `Download` of the dataset and select the data variables, time range, geographical area, etc. that you want to download\n",
    "* At the end of the page, click on `Show API request code` and take notes of the following information\n",
    "    * `dataset`: name of the dataset\n",
    "    * `request`: a dictionary summarizes your download request\n",
    "* Replace the values of `dataset` and `request` in the below cell correspondingly"
   ]
  },
  {
   "cell_type": "code",
   "execution_count": null,
   "id": "5",
   "metadata": {},
   "outputs": [],
   "source": [
    "# replace dataset and request with your own values\n",
    "dataset = \"reanalysis-era5-land-monthly-means\"\n",
    "request = {\n",
    "    \"product_type\": [\"monthly_averaged_reanalysis\"],\n",
    "    \"variable\": [\"2m_temperature\", \"total_precipitation\"],\n",
    "    \"year\": [\"2020\", \"2021\", \"2022\", \"2023\", \"2024\", \"2025\"],\n",
    "    \"month\": [\n",
    "        \"01\",\n",
    "        \"02\",\n",
    "        \"03\",\n",
    "        \"04\",\n",
    "        \"05\",\n",
    "        \"06\",\n",
    "        \"07\",\n",
    "        \"08\",\n",
    "        \"09\",\n",
    "        \"10\",\n",
    "        \"11\",\n",
    "        \"12\",\n",
    "    ],\n",
    "    \"time\": [\"00:00\"],\n",
    "    \"data_format\": \"netcdf\",\n",
    "    \"download_format\": \"unarchived\",\n",
    "}"
   ]
  },
  {
   "cell_type": "code",
   "execution_count": null,
   "id": "6",
   "metadata": {},
   "outputs": [],
   "source": [
    "data_format = request.get(\"data_format\")\n",
    "\n",
    "# file name of downladed data\n",
    "file_name = inout.get_filename(\n",
    "    ds_name=dataset,\n",
    "    data_format=data_format,\n",
    "    years=request[\"year\"],\n",
    "    months=request[\"month\"],\n",
    "    has_area=bool(\"area\" in request),\n",
    "    base_name=\"era5_data\",\n",
    "    variable=request[\"variable\"],\n",
    ")\n",
    "output_file = data_folder / file_name"
   ]
  },
  {
   "cell_type": "code",
   "execution_count": null,
   "id": "7",
   "metadata": {},
   "outputs": [],
   "source": [
    "# download data\n",
    "if not output_file.exists():\n",
    "    print(\"Downloading data...\")\n",
    "    inout.download_data(output_file, dataset, request)\n",
    "else:\n",
    "    print(\"Data already exists at {}\".format(output_file))"
   ]
  },
  {
   "cell_type": "markdown",
   "id": "8",
   "metadata": {},
   "source": [
    "## Load settings"
   ]
  },
  {
   "cell_type": "markdown",
   "id": "9",
   "metadata": {},
   "source": [
    "First we need to load the default settings which setup preprocessing steps."
   ]
  },
  {
   "cell_type": "code",
   "execution_count": null,
   "id": "10",
   "metadata": {},
   "outputs": [],
   "source": [
    "settings = utils.get_settings(setting_path=\"default\", \n",
    "                              new_settings={}, \n",
    "                              updated_setting_dir=None, \n",
    "                              save_updated_settings=False)"
   ]
  },
  {
   "cell_type": "markdown",
   "id": "11",
   "metadata": {},
   "source": [
    "TBU: more details about the default settings will be provided..."
   ]
  },
  {
   "cell_type": "markdown",
   "id": "12",
   "metadata": {},
   "source": [
    "## Preprocess data"
   ]
  },
  {
   "cell_type": "markdown",
   "id": "13",
   "metadata": {},
   "source": [
    "### Preprocess ERA5-Land data"
   ]
  },
  {
   "cell_type": "code",
   "execution_count": null,
   "id": "14",
   "metadata": {},
   "outputs": [],
   "source": [
    "# disable truncation of dates\n",
    "settings[\"truncate_date\"] = False\n",
    "\n",
    "print(\"Preprocessing ERA5-Land data...\")\n",
    "t0 = time.time()\n",
    "preprocessed_dataset = preprocess.preprocess_data_file(\n",
    "    netcdf_file=output_file,\n",
    "    settings=settings,\n",
    ")\n",
    "t_preprocess = time.time()\n",
    "print(\"Preprocessing completed in {:.2f} seconds.\".format(t_preprocess - t0))"
   ]
  },
  {
   "cell_type": "markdown",
   "id": "15",
   "metadata": {},
   "source": [
    "The preprocessed dataset is also saved in a `.nc` file under the same folder, namely `era5_data_2020_2025_all_2t_tp_monthly_unicoords_adjlon_celsius_mm_05deg_trim`\n",
    "\n",
    "Details on regulation for the file name can be found in [Data Lake & Database](../../../datalake_database)"
   ]
  },
  {
   "cell_type": "markdown",
   "id": "16",
   "metadata": {},
   "source": [
    "### Preprocess population data"
   ]
  },
  {
   "cell_type": "markdown",
   "id": "17",
   "metadata": {},
   "source": [
    "Instructions for downloading population data (i.e. ISIMIP data) are presented in [Data Lake & Database](../../../datalake_database)"
   ]
  },
  {
   "cell_type": "code",
   "execution_count": null,
   "id": "18",
   "metadata": {},
   "outputs": [],
   "source": [
    "popu_file = data_folder / \"population_histsoc_30arcmin_annual_1901_2021.nc\""
   ]
  },
  {
   "cell_type": "code",
   "execution_count": null,
   "id": "19",
   "metadata": {},
   "outputs": [],
   "source": [
    "settings[\"truncate_date\"] = True\n",
    "# disable uncessary preprocessing steps\n",
    "settings[\"adjust_longitude\"] = False\n",
    "settings[\"convert_kelvin_to_celsius\"] = False\n",
    "settings[\"convert_m_to_mm_precipitation\"] = False\n",
    "settings[\"resample_grid\"] = False\n",
    "\n",
    "print(\"Preprocessing population data...\")\n",
    "t0 = time.time()\n",
    "preprocessed_popu = preprocess.preprocess_data_file(\n",
    "    netcdf_file=popu_file,\n",
    "    settings=settings,\n",
    ")\n",
    "t_popu = time.time()\n",
    "print(\"Preprocessing population data completed in {:.2f} seconds.\".format(t_popu - t0))"
   ]
  },
  {
   "cell_type": "markdown",
   "id": "20",
   "metadata": {},
   "source": [
    "The preprocessed dataset is also saved in a `.nc` file under the same folder."
   ]
  }
 ],
 "metadata": {
  "kernelspec": {
   "display_name": "onehealth",
   "language": "python",
   "name": "python3"
  },
  "language_info": {
   "codemirror_mode": {
    "name": "ipython",
    "version": 3
   },
   "file_extension": ".py",
   "mimetype": "text/x-python",
   "name": "python",
   "nbconvert_exporter": "python",
   "pygments_lexer": "ipython3",
   "version": "3.12.9"
  }
 },
 "nbformat": 4,
 "nbformat_minor": 5
}
