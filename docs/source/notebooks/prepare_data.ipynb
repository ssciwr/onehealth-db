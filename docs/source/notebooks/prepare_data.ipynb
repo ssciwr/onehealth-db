{
 "cells": [
  {
   "cell_type": "markdown",
   "id": "0",
   "metadata": {},
   "source": [
    "# Preparing data files\n",
    "\n",
    "Prepating data files according to the [data flowchart]()"
   ]
  },
  {
   "cell_type": "code",
   "execution_count": null,
   "id": "1",
   "metadata": {},
   "outputs": [],
   "source": [
    "from onehealth_db import inout\n",
    "from onehealth_db import preprocess\n",
    "from pathlib import Path"
   ]
  },
  {
   "cell_type": "markdown",
   "id": "2",
   "metadata": {},
   "source": [
    "## Download ERA5-Land data"
   ]
  },
  {
   "cell_type": "markdown",
   "id": "3",
   "metadata": {},
   "source": [
    "To download ERA5-Land data using CDS's API:\n",
    "* Select the target dataset, e.g. ERA5-Land monthly averaged data from 1950 to present\n",
    "* Go to tab `Download` of the dataset and select the data variables, time range, geographical area, etc. that you want to download\n",
    "* At the end of the page, click on `Show API request code` and take notes of the following information\n",
    "    * `dataset`: name of the dataset\n",
    "    * `request`: a dictionary summarizes your download request\n",
    "* Replace the values of `dataset` and `request` in the below cell correspondingly"
   ]
  },
  {
   "cell_type": "code",
   "execution_count": null,
   "id": "4",
   "metadata": {},
   "outputs": [],
   "source": [
    "# replace dataset and request with your own values\n",
    "dataset = \"reanalysis-era5-land-monthly-means\"\n",
    "request = {\n",
    "    \"product_type\": [\"monthly_averaged_reanalysis\"],\n",
    "    \"variable\": [\"2m_temperature\", \"total_precipitation\"],\n",
    "    \"year\": [\"2020\", \"2021\", \"2022\", \"2023\", \"2024\", \"2025\"],\n",
    "    \"month\": [\n",
    "        \"01\",\n",
    "        \"02\",\n",
    "        \"03\",\n",
    "        \"04\",\n",
    "        \"05\",\n",
    "        \"06\",\n",
    "        \"07\",\n",
    "        \"08\",\n",
    "        \"09\",\n",
    "        \"10\",\n",
    "        \"11\",\n",
    "        \"12\",\n",
    "    ],\n",
    "    \"time\": [\"00:00\"],\n",
    "    \"data_format\": \"netcdf\",\n",
    "    \"download_format\": \"unarchived\",\n",
    "}"
   ]
  },
  {
   "cell_type": "code",
   "execution_count": null,
   "id": "5",
   "metadata": {},
   "outputs": [],
   "source": [
    "# change to your own data folder, if needed\n",
    "data_folder = Path(\"../data/in/\")"
   ]
  },
  {
   "cell_type": "code",
   "execution_count": null,
   "id": "6",
   "metadata": {},
   "outputs": [],
   "source": [
    "data_format = request.get(\"data_format\")\n",
    "\n",
    "# file name of downladed data\n",
    "file_name = inout.get_filename(\n",
    "    ds_name=dataset,\n",
    "    data_format=data_format,\n",
    "    years=request[\"year\"],\n",
    "    months=request[\"month\"],\n",
    "    has_area=bool(\"area\" in request),\n",
    "    base_name=\"era5_data\",\n",
    "    variable=request[\"variable\"],\n",
    ")\n",
    "output_file = data_folder / file_name"
   ]
  },
  {
   "cell_type": "code",
   "execution_count": null,
   "id": "7",
   "metadata": {},
   "outputs": [],
   "source": [
    "# download data\n",
    "if not output_file.exists():\n",
    "    print(\"Downloading data...\")\n",
    "    inout.download_data(output_file, dataset, request)\n",
    "else:\n",
    "    print(\"Data already exists at {}\".format(output_file))"
   ]
  },
  {
   "cell_type": "markdown",
   "id": "8",
   "metadata": {},
   "source": [
    "## Load settings"
   ]
  },
  {
   "cell_type": "markdown",
   "id": "9",
   "metadata": {},
   "source": [
    "First we need to load the default settings which setup preprocessing steps."
   ]
  },
  {
   "cell_type": "markdown",
   "id": "10",
   "metadata": {},
   "source": [
    "## Preprocess data"
   ]
  },
  {
   "cell_type": "code",
   "execution_count": null,
   "id": "11",
   "metadata": {},
   "outputs": [],
   "source": [
    "# code from inout.py, will be refactored later\n",
    "#     celsius_file_name = file_name.split(\".\")[0] + \"_celsius.nc\"\n",
    "#     output_celsius_file = data_folder / celsius_file_name\n",
    "#     with xr.open_dataset(output_file) as ds:\n",
    "#         # adjust longitude\n",
    "#         print(\"Adjusting longitude from 0-360 to -180-180...\")\n",
    "#         ds = adjust_longitude_360_to_180(ds, inplace=True)\n",
    "\n",
    "#         print(\"Converting temperature to Celsius...\")\n",
    "#         # convert temperature to Celsius\n",
    "#         ds = convert_to_celsius_with_attributes(\n",
    "#             ds, limited_area=\"area\" in request, inplace=True\n",
    "#         )\n",
    "#         # and save to a new NetCDF file\n",
    "#         encoding = {\n",
    "#             var: {\n",
    "#                 \"zlib\": True,  # Enable compression\n",
    "#                 \"complevel\": 1,  # Compression level (1–9)\n",
    "#                 \"dtype\": \"float32\",  # Use float32 to match original\n",
    "#             }\n",
    "#             for var in ds.data_vars\n",
    "#         }\n",
    "#         save_to_netcdf(ds, output_celsius_file, encoding)"
   ]
  }
 ],
 "metadata": {
  "kernelspec": {
   "display_name": "onehealth",
   "language": "python",
   "name": "python3"
  },
  "language_info": {
   "name": "python",
   "version": "3.12.9"
  }
 },
 "nbformat": 4,
 "nbformat_minor": 5
}
