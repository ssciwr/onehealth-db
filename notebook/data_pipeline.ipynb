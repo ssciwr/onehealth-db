{
 "cells": [
  {
   "cell_type": "markdown",
   "id": "0",
   "metadata": {},
   "source": [
    "# Notebook to explore netCDF files and change resolution, plus Python plotting\n",
    "These files are downloaded from [Copernicus Climate Data Store](https://cds.climate.copernicus.eu/datasets/reanalysis-era5-land-monthly-means?tab=download), using `cdsapi`. Get the data running the Python script `inout.py`:\n",
    "```\n",
    "python onehealth_db/inout.py\n",
    "```\n",
    "\n",
    "The downloaded files are stored in `data/in`. The `area` option uses values `90`, `90`, `-90`, `-90` for `North`, `East`, `South`, `West`, respectively.\n",
    "\n",
    "Question: What is the coordinate reference system for the era5 dataset? NUTS3 either on EPSG 3035, 4326, 3857.\n",
    "\n",
    "-> According to [ERA5-Land's documentation](https://confluence.ecmwf.int/display/CKB/ERA5-Land%3A+data+documentation):\n",
    "> The data is referenced in the horizontal with respect to the WGS84 ellipse (which defines the major/minor axes) and in the vertical it is referenced to the EGM96 geoid over land but over ocean it is referenced to mean sea level, with the approximation that this is assumed to be coincident with the geoid. \n",
    "\n",
    "Then according to [this page](https://spatialreference.org/ref/epsg/9707/), it seems like the coordinate reference system for ERA5-Land is EPSG:9707\n",
    "\n",
    "> ERA5-Land produces a total of 50 variables describing the\n",
    "water and energy cycles over land, globally, hourly, and at a\n",
    "spatial resolution of 9 km, matching the ECMWF triangular–\n",
    "cubic–octahedral (TCo1279) operational grid (Malardel\n",
    "et al., 2016)."
   ]
  },
  {
   "cell_type": "code",
   "execution_count": null,
   "id": "1",
   "metadata": {},
   "outputs": [],
   "source": [
    "from pathlib import Path\n",
    "import xarray as xr\n",
    "from matplotlib import pyplot as plt\n",
    "import geopandas as gpd\n",
    "from shapely.geometry import Point\n",
    "import numpy as np"
   ]
  },
  {
   "cell_type": "markdown",
   "id": "2",
   "metadata": {},
   "source": [
    "The following cells aim to explore the data structure"
   ]
  },
  {
   "cell_type": "code",
   "execution_count": null,
   "id": "3",
   "metadata": {},
   "outputs": [],
   "source": [
    "folder_path = Path(\"../data/in\")"
   ]
  },
  {
   "cell_type": "markdown",
   "id": "4",
   "metadata": {},
   "source": [
    "#### ERA5-Land from CDS"
   ]
  },
  {
   "cell_type": "code",
   "execution_count": null,
   "id": "5",
   "metadata": {},
   "outputs": [],
   "source": [
    "f_area_before_celsius = folder_path / \"era5_data_2024_01_02_2t_tp_monthly_area.nc\"\n",
    "f_area_after_celsius = folder_path / \"era5_data_2024_01_02_2t_tp_monthly_area_celsius.nc\""
   ]
  },
  {
   "cell_type": "code",
   "execution_count": null,
   "id": "6",
   "metadata": {},
   "outputs": [],
   "source": [
    "# load netCDF files\n",
    "ds_area_before_celsius = xr.open_dataset(f_area_before_celsius)\n",
    "ds_area_after_celsius = xr.open_dataset(f_area_after_celsius)"
   ]
  },
  {
   "cell_type": "code",
   "execution_count": null,
   "id": "7",
   "metadata": {},
   "outputs": [],
   "source": [
    "ds_area_before_celsius"
   ]
  },
  {
   "cell_type": "code",
   "execution_count": null,
   "id": "8",
   "metadata": {},
   "outputs": [],
   "source": [
    "ds_area_before_celsius.sel(latitude=20.0, longitude=10.0, method=\"nearest\").to_dataframe().head(5)"
   ]
  },
  {
   "cell_type": "code",
   "execution_count": null,
   "id": "9",
   "metadata": {},
   "outputs": [],
   "source": [
    "ds_area_before_celsius[\"tp\"].attrs"
   ]
  },
  {
   "cell_type": "code",
   "execution_count": null,
   "id": "10",
   "metadata": {},
   "outputs": [],
   "source": [
    "ds_area_after_celsius"
   ]
  },
  {
   "cell_type": "code",
   "execution_count": null,
   "id": "11",
   "metadata": {},
   "outputs": [],
   "source": [
    "ds_area_after_celsius[\"tp\"].attrs"
   ]
  },
  {
   "cell_type": "code",
   "execution_count": null,
   "id": "12",
   "metadata": {},
   "outputs": [],
   "source": [
    "ds_area_after_celsius.sel(latitude=20.0, longitude=10.0, method=\"nearest\").to_dataframe().head(5)"
   ]
  },
  {
   "cell_type": "code",
   "execution_count": null,
   "id": "13",
   "metadata": {},
   "outputs": [],
   "source": [
    "lat = 20.0\n",
    "lon = 10.0\n",
    "ds_area_after_celsius[\"t2m\"].sel(latitude=lat, longitude=lon, method=\"nearest\").plot(color=\"blue\", marker=\"o\")\n",
    "plt.title(\"2m temperature in 2024 at lat-{}, lon-{}\".format(lat, lon))\n",
    "plt.show()\n"
   ]
  },
  {
   "cell_type": "code",
   "execution_count": null,
   "id": "14",
   "metadata": {},
   "outputs": [],
   "source": [
    "# plot the data for the first month\n",
    "ds_area_after_celsius.t2m[0].plot(size = 7)"
   ]
  },
  {
   "cell_type": "code",
   "execution_count": null,
   "id": "15",
   "metadata": {},
   "outputs": [],
   "source": [
    "ds_area_after_celsius.tp[0].plot(size = 7)"
   ]
  },
  {
   "cell_type": "code",
   "execution_count": null,
   "id": "16",
   "metadata": {},
   "outputs": [],
   "source": [
    "# convert to dataframe\n",
    "df = ds_area_after_celsius.to_dataframe().reset_index()\n",
    "df"
   ]
  },
  {
   "cell_type": "markdown",
   "id": "17",
   "metadata": {},
   "source": [
    "#### Population data from ISIMIP"
   ]
  },
  {
   "cell_type": "code",
   "execution_count": null,
   "id": "18",
   "metadata": {},
   "outputs": [],
   "source": [
    "f_popu_data = folder_path / \"population_histsoc_30arcmin_annual_1901_2021.nc\"\n",
    "ds_popu_data = xr.open_dataset(f_popu_data)"
   ]
  },
  {
   "cell_type": "code",
   "execution_count": null,
   "id": "19",
   "metadata": {},
   "outputs": [],
   "source": [
    "ds_popu_data"
   ]
  },
  {
   "cell_type": "code",
   "execution_count": null,
   "id": "20",
   "metadata": {},
   "outputs": [],
   "source": [
    "ds_popu_data[\"total-population\"].attrs"
   ]
  },
  {
   "cell_type": "code",
   "execution_count": null,
   "id": "21",
   "metadata": {},
   "outputs": [],
   "source": [
    "test_popu_data = ds_popu_data.sel(lat=20.0, lon=10.0, method=\"nearest\").to_dataframe()\n",
    "test_popu_data.head(5)"
   ]
  },
  {
   "cell_type": "code",
   "execution_count": null,
   "id": "22",
   "metadata": {},
   "outputs": [],
   "source": [
    "test_popu_data[\"total-population\"].plot()"
   ]
  },
  {
   "cell_type": "code",
   "execution_count": null,
   "id": "23",
   "metadata": {},
   "outputs": [],
   "source": [
    "ds_popu_data[\"total-population\"][-1].plot(figsize=(9, 5))"
   ]
  },
  {
   "cell_type": "code",
   "execution_count": null,
   "id": "24",
   "metadata": {},
   "outputs": [],
   "source": [
    "# a file from provided materials\n",
    "f_popu_dens_2024 = folder_path / \"pop_dens_2024_global_0.5.nc\"\n",
    "ds_popu_dens_2024 = xr.open_dataset(f_popu_dens_2024, decode_times=False) # add decode_times=False to avoid error\n",
    "f_dens_example = folder_path / \"dens_example.nc\"\n",
    "ds_dens_example = xr.open_dataset(f_dens_example)"
   ]
  },
  {
   "cell_type": "code",
   "execution_count": null,
   "id": "25",
   "metadata": {},
   "outputs": [],
   "source": [
    "ds_popu_dens_2024"
   ]
  },
  {
   "cell_type": "code",
   "execution_count": null,
   "id": "26",
   "metadata": {},
   "outputs": [],
   "source": [
    "ds_popu_dens_2024[\"dens\"].attrs"
   ]
  },
  {
   "cell_type": "code",
   "execution_count": null,
   "id": "27",
   "metadata": {},
   "outputs": [],
   "source": [
    "ds_popu_dens_2024.sel(lat=20.0, lon=10.0, method=\"nearest\").to_dataframe().head(5)"
   ]
  },
  {
   "cell_type": "code",
   "execution_count": null,
   "id": "28",
   "metadata": {},
   "outputs": [],
   "source": [
    "ds_dens_example"
   ]
  },
  {
   "cell_type": "code",
   "execution_count": null,
   "id": "29",
   "metadata": {},
   "outputs": [],
   "source": [
    "ds_dens_example.to_dataframe().head(5)"
   ]
  },
  {
   "cell_type": "markdown",
   "id": "30",
   "metadata": {},
   "source": [
    "## Downsampling of the data and setting the correct accuracy for the dataframe"
   ]
  },
  {
   "cell_type": "code",
   "execution_count": null,
   "id": "31",
   "metadata": {},
   "outputs": [],
   "source": [
    "# aggregate the data to a 1/2 degree grid, about 50km x 50 km\n",
    "# already here the numerical accuracy of the grid values is problematic, so we need to round\n",
    "output_grid_resolution = 1/2\n",
    "input_grid_resolution = np.round((ds_area_after_celsius.longitude[1]-ds_area_after_celsius.longitude[0]).item(),2)\n",
    "print(\"Initial grid resolution is {}, downsampling to {} degree resolution\".format(input_grid_resolution, output_grid_resolution))\n",
    "weight = int(np.ceil(output_grid_resolution / input_grid_resolution))\n",
    "print(\"Weight is {}\".format(weight))"
   ]
  },
  {
   "cell_type": "code",
   "execution_count": null,
   "id": "32",
   "metadata": {},
   "outputs": [],
   "source": [
    "ds_area_after_celsius_resampled = ds_area_after_celsius.coarsen(longitude=weight, boundary=\"pad\").mean().coarsen(latitude=weight, boundary=\"pad\").mean()\n",
    "ds_area_after_celsius_resampled"
   ]
  },
  {
   "cell_type": "code",
   "execution_count": null,
   "id": "33",
   "metadata": {},
   "outputs": [],
   "source": [
    "downsampled_grid = float(ds_area_after_celsius_resampled.longitude[1] - ds_area_after_celsius_resampled.longitude[0])\n",
    "print(\"Downsampled grid resolution is {}\".format(downsampled_grid))"
   ]
  },
  {
   "cell_type": "code",
   "execution_count": null,
   "id": "34",
   "metadata": {},
   "outputs": [],
   "source": [
    "# plot the data for the first month\n",
    "ds_area_after_celsius_resampled.t2m[0].plot(size = 5)"
   ]
  },
  {
   "cell_type": "code",
   "execution_count": null,
   "id": "35",
   "metadata": {},
   "outputs": [],
   "source": [
    "# convert to dataframe\n",
    "df = ds_area_after_celsius_resampled.to_dataframe().reset_index()\n",
    "df"
   ]
  },
  {
   "cell_type": "code",
   "execution_count": null,
   "id": "36",
   "metadata": {},
   "outputs": [],
   "source": [
    "out_data = df[[\"valid_time\", \"latitude\", \"longitude\", \"t2m\"]]\n",
    "out_data = out_data[out_data['valid_time'] == '2024-02-01']"
   ]
  },
  {
   "cell_type": "code",
   "execution_count": null,
   "id": "37",
   "metadata": {},
   "outputs": [],
   "source": [
    "# drop all nan values and filter by time\n",
    "out_data_clean = out_data.dropna()\n",
    "out_data_clean"
   ]
  },
  {
   "cell_type": "code",
   "execution_count": null,
   "id": "38",
   "metadata": {},
   "outputs": [],
   "source": [
    "out_data.to_csv(\"../data/out/era5_data_2024_01_02_monthly_area_celsius_with_NaN_february_resampled_05degree.csv\", index=False)\n",
    "out_data_clean.to_csv(\"../data/out/era5_data_2024_01_02_monthly_area_celsius_february_resampled_05degree.csv\", index=False)"
   ]
  },
  {
   "cell_type": "markdown",
   "id": "39",
   "metadata": {},
   "source": [
    "## Export to geopandas for other plotting options and geospatial analysis"
   ]
  },
  {
   "cell_type": "code",
   "execution_count": null,
   "id": "40",
   "metadata": {},
   "outputs": [],
   "source": [
    "# xarray data to geopandas\n",
    "# Create geometry column using latitude and longitude\n",
    "geometry = [Point(xy) for xy in zip(out_data_clean['longitude'], out_data_clean['latitude'])]\n",
    "\n",
    "# Create GeoDataFrame\n",
    "gdf = gpd.GeoDataFrame(out_data_clean, geometry=geometry)\n",
    "\n",
    "# Set the coordinate reference system (CRS) if known (e.g., WGS84)\n",
    "gdf.set_crs(epsg=4326, inplace=True)\n",
    "\n",
    "# Save to a GeoJSON file\n",
    "gdf.to_file(\"../data/out/era5_data_2024_01_02_monthly_area_celsius_February_resampled_05degree.geojson\", driver=\"GeoJSON\")\n",
    "\n",
    "# Display the GeoDataFrame\n",
    "gdf.head()"
   ]
  },
  {
   "cell_type": "code",
   "execution_count": null,
   "id": "41",
   "metadata": {},
   "outputs": [],
   "source": [
    "fig, ax = plt.subplots(figsize=(8,5))\n",
    "gdf.plot(ax=ax, column=\"t2m\", legend=True, markersize=0.5)\n",
    "fig.tight_layout()\n",
    "fig.savefig(\"february.pdf\")"
   ]
  },
  {
   "cell_type": "markdown",
   "id": "42",
   "metadata": {},
   "source": [
    "## Resample to NUTS3 level\n",
    "Use the same `crs` for geopandas export and the shapefile export from Eurostat."
   ]
  },
  {
   "cell_type": "code",
   "execution_count": null,
   "id": "43",
   "metadata": {},
   "outputs": [],
   "source": [
    "# read the shapefile\n",
    "shapefile_path = Path(\"../data/in/NUTS_RG_20M_2024_4326.shp\")\n",
    "nuts3 = gpd.GeoDataFrame.from_file(shapefile_path)\n",
    "nuts3"
   ]
  },
  {
   "cell_type": "code",
   "execution_count": null,
   "id": "44",
   "metadata": {},
   "outputs": [],
   "source": [
    "gdf"
   ]
  },
  {
   "cell_type": "code",
   "execution_count": null,
   "id": "45",
   "metadata": {},
   "outputs": [],
   "source": [
    "# Spatial join for points in polygons\n",
    "merge = gpd.tools.sjoin(gdf, nuts3, how='left')\n",
    "\n",
    "# drop non-merged obs\n",
    "matched = merge[~merge['NUTS_NAME'].isna()]\n",
    "# show result\n",
    "matched.head()"
   ]
  },
  {
   "cell_type": "code",
   "execution_count": null,
   "id": "46",
   "metadata": {},
   "outputs": [],
   "source": [
    "aggregated_by_NUTS3 = matched.groupby(\"NUTS_ID\")[\"t2m\"].mean().reset_index()\n",
    "aggregated_by_NUTS3"
   ]
  },
  {
   "cell_type": "code",
   "execution_count": null,
   "id": "47",
   "metadata": {},
   "outputs": [],
   "source": [
    "nuts = nuts3.merge(aggregated_by_NUTS3, on=\"NUTS_ID\")\n",
    "nuts = nuts.filter([\"NUTS_ID\",'geometry', 't2m'])\n",
    "nuts"
   ]
  },
  {
   "cell_type": "code",
   "execution_count": null,
   "id": "48",
   "metadata": {},
   "outputs": [],
   "source": [
    "# plot the NUTS3 regions with the t2m\n",
    "fig, ax = plt.subplots(figsize=(8, 5))\n",
    "nuts.plot(ax=ax, column='t2m', legend=True, markersize=0.5, cmap='coolwarm')\n",
    "plt.tight_layout()\n",
    "fig.savefig('nuts3_export.pdf')"
   ]
  },
  {
   "cell_type": "code",
   "execution_count": null,
   "id": "49",
   "metadata": {},
   "outputs": [],
   "source": [
    "# export the NUTS3 regions with the t2m as csv\n",
    "nuts.to_csv(\"../data/out/era5_data_2024_01_02_monthly_area_celsius_february_resampled_05degree_NUTS3.csv\", index=False)"
   ]
  },
  {
   "cell_type": "code",
   "execution_count": null,
   "id": "50",
   "metadata": {},
   "outputs": [],
   "source": []
  }
 ],
 "metadata": {
  "kernelspec": {
   "display_name": "onehealth",
   "language": "python",
   "name": "python3"
  },
  "language_info": {
   "codemirror_mode": {
    "name": "ipython",
    "version": 3
   },
   "file_extension": ".py",
   "mimetype": "text/x-python",
   "name": "python",
   "nbconvert_exporter": "python",
   "pygments_lexer": "ipython3",
   "version": "3.12.9"
  }
 },
 "nbformat": 4,
 "nbformat_minor": 5
}
