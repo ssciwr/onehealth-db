{
 "cells": [
  {
   "cell_type": "markdown",
   "id": "0",
   "metadata": {},
   "source": [
    "# Notebook to explore GRIB and netCDF files\n",
    "These files are downloaded from [Copernicus Climate Data Store](https://cds.climate.copernicus.eu/datasets/reanalysis-era5-land-monthly-means?tab=download), using `cdsapi`.\n",
    "\n",
    "The downloaded files are stored in `data/in`. The `area` option uses values `45`, `90`, `-45`, `-90` for `North`, `East`, `South`, `West`, respectively."
   ]
  },
  {
   "cell_type": "code",
   "execution_count": null,
   "id": "1",
   "metadata": {},
   "outputs": [],
   "source": [
    "from pathlib import Path\n",
    "import xarray as xr\n",
    "from matplotlib import pyplot as plt\n",
    "import geopandas as gpd\n",
    "from shapely.geometry import Point"
   ]
  },
  {
   "cell_type": "code",
   "execution_count": null,
   "id": "2",
   "metadata": {},
   "outputs": [],
   "source": [
    "folder_path = Path(\"../data/in\")\n",
    "f_area_before_celsius = folder_path / \"era5_data_2024_01_02_monthly_area.nc\"\n",
    "f_area_after_celsius = folder_path / \"era5_data_2024_01_02_monthly_area_celsius.nc\""
   ]
  },
  {
   "cell_type": "code",
   "execution_count": null,
   "id": "3",
   "metadata": {},
   "outputs": [],
   "source": [
    "# load netCDF files\n",
    "ds_area_before_celsius = xr.open_dataset(f_area_before_celsius)\n",
    "ds_area_after_celsius = xr.open_dataset(f_area_after_celsius)"
   ]
  },
  {
   "cell_type": "markdown",
   "id": "4",
   "metadata": {},
   "source": [
    "The following cells aim to explore the data structure"
   ]
  },
  {
   "cell_type": "code",
   "execution_count": null,
   "id": "5",
   "metadata": {},
   "outputs": [],
   "source": [
    "ds_area_before_celsius"
   ]
  },
  {
   "cell_type": "code",
   "execution_count": null,
   "id": "6",
   "metadata": {},
   "outputs": [],
   "source": [
    "ds_area_before_celsius.sel(latitude=20.0, longitude=10.0, method=\"nearest\").to_dataframe().head(5)"
   ]
  },
  {
   "cell_type": "code",
   "execution_count": null,
   "id": "7",
   "metadata": {},
   "outputs": [],
   "source": [
    "ds_area_after_celsius"
   ]
  },
  {
   "cell_type": "code",
   "execution_count": null,
   "id": "8",
   "metadata": {},
   "outputs": [],
   "source": [
    "ds_area_after_celsius.sel(latitude=20.0, longitude=10.0, method=\"nearest\").to_dataframe().head(5)"
   ]
  },
  {
   "cell_type": "code",
   "execution_count": null,
   "id": "9",
   "metadata": {},
   "outputs": [],
   "source": [
    "lat = 20.0\n",
    "lon = 10.0\n",
    "ds_area_after_celsius[\"t2m\"].sel(latitude=lat, longitude=lon, method=\"nearest\").plot(color=\"blue\", marker=\"o\")\n",
    "plt.title(\"2m temperature in 2024 at lat-{}, lon-{}\".format(lat, lon))\n",
    "plt.show()\n"
   ]
  },
  {
   "cell_type": "code",
   "execution_count": null,
   "id": "10",
   "metadata": {},
   "outputs": [],
   "source": [
    "# convert to dataframe\n",
    "df = ds_area_after_celsius.to_dataframe().reset_index()\n",
    "df"
   ]
  },
  {
   "cell_type": "code",
   "execution_count": null,
   "id": "11",
   "metadata": {},
   "outputs": [],
   "source": [
    "out_data = df[[\"valid_time\", \"latitude\", \"longitude\", \"t2m\"]]\n",
    "out_data = out_data[out_data['valid_time'] == '2024-02-01']"
   ]
  },
  {
   "cell_type": "code",
   "execution_count": null,
   "id": "12",
   "metadata": {},
   "outputs": [],
   "source": [
    "# drop all nan values and filter by time\n",
    "out_data_clean = out_data[out_data['valid_time'] == '2024-02-01'].dropna()\n",
    "out_data_clean"
   ]
  },
  {
   "cell_type": "code",
   "execution_count": null,
   "id": "13",
   "metadata": {},
   "outputs": [],
   "source": [
    "out_data.to_csv(\"../data/out/era5_data_2024_01_02_monthly_area_celsius_with_NaN.csv\", index=False)\n",
    "out_data_clean.to_csv(\"../data/out/era5_data_2024_01_02_monthly_area_celsius_february.csv\", index=False)"
   ]
  },
  {
   "cell_type": "code",
   "execution_count": null,
   "id": "14",
   "metadata": {},
   "outputs": [],
   "source": [
    "out_data.to_json(\n",
    "    \"../data/out/era5_data_2024_01_02_monthly_area_celsius.json\",\n",
    "    orient=\"records\",\n",
    "    date_format=\"iso\",\n",
    "    lines=True,\n",
    ")"
   ]
  },
  {
   "cell_type": "code",
   "execution_count": null,
   "id": "15",
   "metadata": {},
   "outputs": [],
   "source": [
    "# xarray data to geopandas\n",
    "\n",
    "# Convert xarray dataset to pandas DataFrame\n",
    "df = ds_area_after_celsius.to_dataframe().reset_index()\n",
    "\n",
    "# Filter necessary columns (latitude, longitude, and any variable of interest)\n",
    "df_filtered = df[['latitude', 'longitude', 't2m']]\n",
    "df_filtered = df[df['valid_time'] == '2024-02-01']\n",
    "\n",
    "# Create geometry column using latitude and longitude\n",
    "geometry = [Point(xy) for xy in zip(df_filtered['longitude'], df_filtered['latitude'])]\n",
    "\n",
    "# Create GeoDataFrame\n",
    "gdf = gpd.GeoDataFrame(df_filtered, geometry=geometry)\n",
    "\n",
    "# Set the coordinate reference system (CRS) if known (e.g., WGS84)\n",
    "gdf.set_crs(epsg=4326, inplace=True)\n",
    "\n",
    "# Save to a GeoJSON file\n",
    "gdf.to_file(\"../data/out/era5_data_2024_01_02_monthly_area_celsius.geojson\", driver=\"GeoJSON\")\n",
    "\n",
    "# Display the GeoDataFrame\n",
    "gdf.head()"
   ]
  },
  {
   "cell_type": "code",
   "execution_count": null,
   "id": "16",
   "metadata": {},
   "outputs": [],
   "source": []
  }
 ],
 "metadata": {
  "kernelspec": {
   "display_name": "Python 3 (ipykernel)",
   "language": "python",
   "name": "python3"
  },
  "language_info": {
   "codemirror_mode": {
    "name": "ipython",
    "version": 3
   },
   "file_extension": ".py",
   "mimetype": "text/x-python",
   "name": "python",
   "nbconvert_exporter": "python",
   "pygments_lexer": "ipython3",
   "version": "3.13.2"
  }
 },
 "nbformat": 4,
 "nbformat_minor": 5
}
