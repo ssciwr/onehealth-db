{
 "cells": [
  {
   "cell_type": "markdown",
   "id": "c7ff4a1e",
   "metadata": {},
   "source": [
    "# Notebook to explore GRIB and netCDF files\n",
    "These files are downloaded from [Copernicus Climate Data Store](https://cds.climate.copernicus.eu/datasets/reanalysis-era5-land-monthly-means?tab=download), using `cdsapi`.\n",
    "\n",
    "The downloaded files are stored in `data/in`. The `area` option uses values `45`, `90`, `-45`, `-90` for `North`, `East`, `South`, `West`, respectively."
   ]
  },
  {
   "cell_type": "code",
   "execution_count": null,
   "id": "3dc85ea9",
   "metadata": {},
   "outputs": [],
   "source": [
    "from pathlib import Path\n",
    "import xarray as xr\n",
    "from matplotlib import pyplot as plt"
   ]
  },
  {
   "cell_type": "code",
   "execution_count": null,
   "id": "faf11b88",
   "metadata": {},
   "outputs": [],
   "source": [
    "folder_path = Path(\"../data/in\")\n",
    "f_no_area_before_celsius = folder_path / \"era5_data_2025_03_monthly.nc\"\n",
    "f_no_area_after_celsius = folder_path / \"era5_data_2025_03_monthly_celsius.nc\"\n",
    "f_area_before_celsius = folder_path / \"era5_data_2025_03_monthly_area.nc\"\n",
    "f_area_after_celsius = folder_path / \"era5_data_2025_03_monthly_area_celsius.nc\"\n",
    "f_multi_before_celsicus = folder_path / \"era5_data_2022_2023_2024_all_monthly.nc\"\n",
    "f_multi_after_celsicus = folder_path / \"era5_data_2022_2023_2024_all_monthly_celsius.nc\"\n",
    "f_2024_area_after_celsius = folder_path / \"era5_data_2024_01_02_monthly_area_celsius.nc\""
   ]
  },
  {
   "cell_type": "code",
   "execution_count": null,
   "id": "87b0b56d",
   "metadata": {},
   "outputs": [],
   "source": [
    "# load netCDF files\n",
    "ds_no_area_before_celsius = xr.open_dataset(f_no_area_before_celsius)\n",
    "ds_no_area_after_celsius = xr.open_dataset(f_no_area_after_celsius)\n",
    "ds_area_before_celsius = xr.open_dataset(f_area_before_celsius)\n",
    "ds_area_after_celsius = xr.open_dataset(f_area_after_celsius)\n",
    "ds_multi_before_celsius = xr.open_dataset(f_multi_before_celsicus)\n",
    "ds_multi_after_celsius = xr.open_dataset(f_multi_after_celsicus)\n",
    "ds_2024_area_after_celsius = xr.open_dataset(f_2024_area_after_celsius)"
   ]
  },
  {
   "cell_type": "markdown",
   "id": "eea0d8a9",
   "metadata": {},
   "source": [
    "The following cells aim to explore the data structure"
   ]
  },
  {
   "cell_type": "code",
   "execution_count": null,
   "id": "b1bf64bf",
   "metadata": {},
   "outputs": [],
   "source": [
    "ds_no_area_before_celsius"
   ]
  },
  {
   "cell_type": "code",
   "execution_count": null,
   "id": "0b194fac",
   "metadata": {},
   "outputs": [],
   "source": [
    "ds_no_area_before_celsius.sel(latitude=20.0, longitude=10.0, method=\"nearest\").to_dataframe().head(5)"
   ]
  },
  {
   "cell_type": "code",
   "execution_count": null,
   "id": "f617e42a",
   "metadata": {},
   "outputs": [],
   "source": [
    "ds_no_area_after_celsius"
   ]
  },
  {
   "cell_type": "code",
   "execution_count": null,
   "id": "f4b25a4e",
   "metadata": {},
   "outputs": [],
   "source": [
    "ds_no_area_after_celsius.sel(latitude=20.0, longitude=10.0, method=\"nearest\").to_dataframe().head(5)"
   ]
  },
  {
   "cell_type": "code",
   "execution_count": null,
   "id": "5aefe85a",
   "metadata": {},
   "outputs": [],
   "source": [
    "lat = 20.0\n",
    "lon = 10.0\n",
    "ds_multi_after_celsius[\"t2m\"].sel(latitude=lat, longitude=lon, method=\"nearest\").plot(color=\"blue\", marker=\"o\")\n",
    "plt.title(\"2m temperature in 2024 at lat-{}, lon-{}\".format(lat, lon))\n",
    "plt.show()\n"
   ]
  },
  {
   "cell_type": "code",
   "execution_count": null,
   "id": "2401348e",
   "metadata": {},
   "outputs": [],
   "source": [
    "ds_area_after_celsius"
   ]
  },
  {
   "cell_type": "code",
   "execution_count": null,
   "id": "f0d198be",
   "metadata": {},
   "outputs": [],
   "source": [
    "# convert to dataframe\n",
    "df = ds_2024_area_after_celsius.to_dataframe().reset_index()\n",
    "df"
   ]
  },
  {
   "cell_type": "code",
   "execution_count": null,
   "id": "a9ea6a66",
   "metadata": {},
   "outputs": [],
   "source": [
    "out_data = df[[\"valid_time\", \"latitude\", \"longitude\", \"t2m\"]]\n",
    "out_data"
   ]
  },
  {
   "cell_type": "code",
   "execution_count": null,
   "id": "fd233070",
   "metadata": {},
   "outputs": [],
   "source": [
    "out_data.to_csv(\"../data/out/era5_data_2024_01_02_monthly_area_celsius.csv\", index=False)"
   ]
  },
  {
   "cell_type": "code",
   "execution_count": null,
   "id": "e93f9aa9",
   "metadata": {},
   "outputs": [],
   "source": [
    "out_data.to_json(\n",
    "    \"../data/out/era5_data_2024_01_02_monthly_area_celsius.json\",\n",
    "    orient=\"records\",\n",
    "    date_format=\"iso\",\n",
    "    lines=True,\n",
    ")"
   ]
  }
 ],
 "metadata": {
  "kernelspec": {
   "display_name": "onehealth",
   "language": "python",
   "name": "python3"
  },
  "language_info": {
   "codemirror_mode": {
    "name": "ipython",
    "version": 3
   },
   "file_extension": ".py",
   "mimetype": "text/x-python",
   "name": "python",
   "nbconvert_exporter": "python",
   "pygments_lexer": "ipython3",
   "version": "3.12.9"
  }
 },
 "nbformat": 4,
 "nbformat_minor": 5
}
