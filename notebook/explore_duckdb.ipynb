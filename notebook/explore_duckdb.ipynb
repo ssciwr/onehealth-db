{
 "cells": [
  {
   "cell_type": "markdown",
   "id": "c7ff4a1e",
   "metadata": {},
   "source": [
    "# Notebook to explore DuckDB\n",
    "DuckDB files are created from dataframes of reading netCDF files. These netCDF files can be found under `data/in`.\n",
    "\n",
    "By default, the DuckDB files are stored in `data/`"
   ]
  },
  {
   "cell_type": "code",
   "execution_count": null,
   "id": "3dc85ea9",
   "metadata": {},
   "outputs": [],
   "source": [
    "from pathlib import Path\n",
    "import xarray as xr\n",
    "from onehealth_db import database\n",
    "import duckdb"
   ]
  },
  {
   "cell_type": "code",
   "execution_count": null,
   "id": "faf11b88",
   "metadata": {},
   "outputs": [],
   "source": [
    "folder_path = Path(\"../data/in\")\n",
    "f_no_area_before_celsius = folder_path / \"era5_data_2025_03_monthly.nc\"\n",
    "f_no_area_after_celsius = folder_path / \"era5_data_2025_03_monthly_celsius.nc\"\n",
    "f_area_before_celsius = folder_path / \"era5_data_2025_03_monthly_area.nc\"\n",
    "f_area_after_celsius = folder_path / \"era5_data_2025_03_monthly_area_celsius.nc\"\n",
    "f_multi_before_celsicus = folder_path / \"era5_data_2022_2023_2024_all_monthly.nc\"\n",
    "f_multi_after_celsicus = folder_path / \"era5_data_2022_2023_2024_all_monthly_celsius.nc\"\n",
    "f_2024_area_after_celsius = folder_path / \"era5_data_2024_01_02_monthly_area_celsius.nc\""
   ]
  },
  {
   "cell_type": "markdown",
   "id": "eea0d8a9",
   "metadata": {},
   "source": [
    "The following cells aim to explore the DB created from dataframes of netCDF files."
   ]
  },
  {
   "cell_type": "code",
   "execution_count": null,
   "id": "f0d198be",
   "metadata": {},
   "outputs": [],
   "source": [
    "# convert to dataframe\n",
    "df = database.file_to_dataframe(f_2024_area_after_celsius, columns=\"all\")\n",
    "df"
   ]
  },
  {
   "cell_type": "code",
   "execution_count": null,
   "id": "a9ea6a66",
   "metadata": {},
   "outputs": [],
   "source": [
    "out_data = df[[\"valid_time\", \"latitude\", \"longitude\", \"t2m\"]]\n",
    "out_data"
   ]
  },
  {
   "cell_type": "code",
   "execution_count": null,
   "id": "e93f9aa9",
   "metadata": {},
   "outputs": [],
   "source": [
    "# save dataframe to duckdb\n",
    "# by default, database file is data/onehealth.db, table name is onehealth\n",
    "# data/onehealth.db will be deleted if you run test_import_data_none_path in test_database.py\n",
    "database_file_path = Path(\"../data/onehealth.duckdb\")\n",
    "table_name = \"onehealth\"\n",
    "database.import_data(out_data, database_file_path, table_name)"
   ]
  },
  {
   "cell_type": "code",
   "execution_count": null,
   "id": "a8083961",
   "metadata": {},
   "outputs": [],
   "source": [
    "# inspect the database\n",
    "with duckdb.connect(database_file_path) as con:\n",
    "    t2m_data = con.sql(f\"\"\"\n",
    "        SELECT t2m\n",
    "        FROM {table_name}\n",
    "        LIMIT 10\n",
    "    \"\"\").df()\n",
    "t2m_data"
   ]
  },
  {
   "cell_type": "code",
   "execution_count": null,
   "id": "2ff96933",
   "metadata": {},
   "outputs": [],
   "source": [
    "# check data type of each column\n",
    "with duckdb.connect(database_file_path) as con:\n",
    "    data_types = con.sql(f\"\"\"\n",
    "        SELECT column_name, data_type\n",
    "        FROM information_schema.columns\n",
    "        WHERE table_name = '{table_name}'\n",
    "    \"\"\").df()\n",
    "data_types"
   ]
  },
  {
   "cell_type": "code",
   "execution_count": null,
   "id": "58edd5ba",
   "metadata": {},
   "outputs": [],
   "source": [
    "# save dataframe to duckdb with geometry extension\n",
    "with duckdb.connect(database_file_path) as con:\n",
    "    con.execute(\"INSTALL spatial;\")\n",
    "    con.execute(\"LOAD spatial;\")\n",
    "    con.execute(f\"\"\"\n",
    "        CREATE  OR REPLACE TABLE {table_name}_geom AS\n",
    "        SELECT *,\n",
    "            ST_Point(longitude, latitude) AS geom\n",
    "        FROM {table_name}\n",
    "    \"\"\")\n",
    "    geo_data = con.sql(f\"\"\"\n",
    "        SELECT *\n",
    "        FROM {table_name}_geom\n",
    "        LIMIT 10\n",
    "    \"\"\").df()\n",
    "geo_data"
   ]
  },
  {
   "cell_type": "code",
   "execution_count": null,
   "id": "a0d7b574",
   "metadata": {},
   "outputs": [],
   "source": [
    "# use spatial functions\n",
    "with duckdb.connect(database_file_path) as con:\n",
    "    con.execute(\"INSTALL spatial;\")\n",
    "    con.execute(\"LOAD spatial;\")\n",
    "    spatial_data = con.sql(f\"\"\"\n",
    "        SELECT *\n",
    "        FROM {table_name}_geom\n",
    "        WHERE ST_Distance(geom, ST_Point(0, 0)) < 1000000\n",
    "        LIMIT 10\n",
    "    \"\"\").df()\n",
    "spatial_data"
   ]
  }
 ],
 "metadata": {
  "kernelspec": {
   "display_name": "onehealth",
   "language": "python",
   "name": "python3"
  },
  "language_info": {
   "codemirror_mode": {
    "name": "ipython",
    "version": 3
   },
   "file_extension": ".py",
   "mimetype": "text/x-python",
   "name": "python",
   "nbconvert_exporter": "python",
   "pygments_lexer": "ipython3",
   "version": "3.12.9"
  }
 },
 "nbformat": 4,
 "nbformat_minor": 5
}
