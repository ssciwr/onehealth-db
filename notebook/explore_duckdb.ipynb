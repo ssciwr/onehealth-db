{
 "cells": [
  {
   "cell_type": "markdown",
   "id": "c7ff4a1e",
   "metadata": {},
   "source": [
    "# Notebook to explore DuckDB\n",
    "DuckDB files are created from dataframes of reading netCDF files. These netCDF files can be found under `data/in`.\n",
    "\n",
    "By default, the DuckDB files are stored in `data/`"
   ]
  },
  {
   "cell_type": "code",
   "execution_count": null,
   "id": "3dc85ea9",
   "metadata": {},
   "outputs": [],
   "source": [
    "from pathlib import Path\n",
    "import xarray as xr\n",
    "from onehealth_db import database\n",
    "import duckdb"
   ]
  },
  {
   "cell_type": "code",
   "execution_count": null,
   "id": "faf11b88",
   "metadata": {},
   "outputs": [],
   "source": [
    "folder_path = Path(\"../data/in\")\n",
    "f_no_area_before_celsius = folder_path / \"era5_data_2025_03_monthly.nc\"\n",
    "f_no_area_after_celsius = folder_path / \"era5_data_2025_03_monthly_celsius.nc\"\n",
    "f_area_before_celsius = folder_path / \"era5_data_2025_03_monthly_area.nc\"\n",
    "f_area_after_celsius = folder_path / \"era5_data_2025_03_monthly_area_celsius.nc\"\n",
    "f_multi_before_celsicus = folder_path / \"era5_data_2022_2023_2024_all_monthly.nc\"\n",
    "f_multi_after_celsicus = folder_path / \"era5_data_2022_2023_2024_all_monthly_celsius.nc\"\n",
    "f_2024_area_after_celsius = folder_path / \"era5_data_2024_01_02_monthly_area_celsius.nc\""
   ]
  },
  {
   "cell_type": "code",
   "execution_count": null,
   "id": "87b0b56d",
   "metadata": {},
   "outputs": [],
   "source": [
    "# load netCDF files\n",
    "ds_no_area_before_celsius = xr.open_dataset(f_no_area_before_celsius)\n",
    "ds_no_area_after_celsius = xr.open_dataset(f_no_area_after_celsius)\n",
    "ds_area_before_celsius = xr.open_dataset(f_area_before_celsius)\n",
    "ds_area_after_celsius = xr.open_dataset(f_area_after_celsius)\n",
    "ds_multi_before_celsius = xr.open_dataset(f_multi_before_celsicus)\n",
    "ds_multi_after_celsius = xr.open_dataset(f_multi_after_celsicus)\n",
    "ds_2024_area_after_celsius = xr.open_dataset(f_2024_area_after_celsius)"
   ]
  },
  {
   "cell_type": "markdown",
   "id": "eea0d8a9",
   "metadata": {},
   "source": [
    "The following cells aim to explore the DB created from dataframes of netCDF files."
   ]
  },
  {
   "cell_type": "code",
   "execution_count": null,
   "id": "f0d198be",
   "metadata": {},
   "outputs": [],
   "source": [
    "# convert to dataframe\n",
    "df = ds_2024_area_after_celsius.to_dataframe().reset_index()\n",
    "df"
   ]
  },
  {
   "cell_type": "code",
   "execution_count": null,
   "id": "a9ea6a66",
   "metadata": {},
   "outputs": [],
   "source": [
    "out_data = df[[\"valid_time\", \"latitude\", \"longitude\", \"t2m\"]]\n",
    "out_data"
   ]
  },
  {
   "cell_type": "code",
   "execution_count": null,
   "id": "e93f9aa9",
   "metadata": {},
   "outputs": [],
   "source": [
    "# save dataframe to duckdb\n",
    "# by default, database file is data/onehealth.db`\n",
    "# table name is onehealth\n",
    "database_file_path = Path(\"../data/onehealth.db\")\n",
    "table_name = \"onehealth\"\n",
    "database.import_data(out_data, database_file_path, table_name)"
   ]
  },
  {
   "cell_type": "code",
   "execution_count": null,
   "id": "a8083961",
   "metadata": {},
   "outputs": [],
   "source": [
    "# inspect the database\n",
    "con = duckdb.connect(database_file_path)\n",
    "t2m_data = con.sql(f\"\"\"\n",
    "    SELECT t2m\n",
    "    FROM {table_name}\n",
    "    LIMIT 10\n",
    "\"\"\").df()\n",
    "t2m_data"
   ]
  }
 ],
 "metadata": {
  "kernelspec": {
   "display_name": "onehealth",
   "language": "python",
   "name": "python3"
  },
  "language_info": {
   "codemirror_mode": {
    "name": "ipython",
    "version": 3
   },
   "file_extension": ".py",
   "mimetype": "text/x-python",
   "name": "python",
   "nbconvert_exporter": "python",
   "pygments_lexer": "ipython3",
   "version": "3.12.9"
  }
 },
 "nbformat": 4,
 "nbformat_minor": 5
}
